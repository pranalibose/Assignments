{
 "cells": [
  {
   "cell_type": "markdown",
   "id": "897da9b2",
   "metadata": {},
   "source": [
    "# Python Practical Advanced Assignment 14"
   ]
  },
  {
   "cell_type": "markdown",
   "id": "1860464f",
   "metadata": {},
   "source": [
    "1. Given a list of numbers, create a function that removes 25% from every number in the list except the smallest number, and adds the total amount removed to the smallest number.\n",
    "\n",
    "Examples\n",
    "\n",
    "show_the_love([4, 1, 4]) ➞ [3, 3, 3]\n",
    "\n",
    "show_the_love([16, 10, 8]) ➞ [12, 7.5, 14.5]\n",
    "\n",
    "show_the_love([2, 100]) ➞ [27, 75]\n"
   ]
  },
  {
   "cell_type": "code",
   "execution_count": 5,
   "id": "b34617c5",
   "metadata": {},
   "outputs": [
    {
     "name": "stdout",
     "output_type": "stream",
     "text": [
      "[3.0, 3.0, 3.0]\n",
      "[12.0, 7.5, 14.5]\n",
      "[27.0, 75.0]\n"
     ]
    }
   ],
   "source": [
    "def show_the_love(l):\n",
    "    removed = 0\n",
    "    smallest = min(l)\n",
    "    for i in l:\n",
    "        if i != smallest:\n",
    "            l[l.index(i)] = (75/100) * i\n",
    "            removed += (25/100) * i\n",
    "    l[l.index(smallest)] = smallest + removed\n",
    "    return l\n",
    "\n",
    "print(show_the_love([4, 1, 4]))\n",
    "print(show_the_love([16, 10, 8]))\n",
    "print(show_the_love([2, 100]))"
   ]
  },
  {
   "cell_type": "markdown",
   "id": "3c2a4d20",
   "metadata": {},
   "source": [
    "2. Create a function that takes in two words as input and returns a list of three elements, in the following order:\n",
    "\n",
    "   1.Shared letters between two words.\n",
    "   2.Letters unique to word 1.\n",
    "   3.Letters unique to word 2.\n",
    "\n",
    "Each element should have unique letters, and have each letter be alphabetically sorted.\n",
    "\n",
    "Examples\n",
    "\n",
    "letters(\"sharp\", \"soap\") ➞ [\"aps\", \"hr\", \"o\"]\n",
    "\n",
    "letters(\"board\", \"bored\") ➞ [\"bdor\", \"a\", \"e\"]\n",
    "\n",
    "letters(\"happiness\", \"envelope\") ➞ [\"enp\", \"ahis\", \"lov\"]\n",
    "\n",
    "letters(\"kerfuffle\", \"fluffy\") ➞ [\"flu\", \"ekr\", \"y\"]\n",
    "\n",
    "Even with multiple matching letters (e.g. 3 f's), there should \n",
    "only exist a single \"f\" in your first element.\n",
    "\n",
    "letters(\"match\", \"ham\") ➞ [\"ahm\", \"ct\", \"\"]\n",
    "\n",
    "\"ham\" does not contain any letters that are not found already \n",
    "in \"match\".\n"
   ]
  },
  {
   "cell_type": "code",
   "execution_count": 26,
   "id": "e3ba95e5",
   "metadata": {},
   "outputs": [
    {
     "name": "stdout",
     "output_type": "stream",
     "text": [
      "['flu', 'ekr', 'y']\n",
      "['aps', 'hr', 'o']\n"
     ]
    }
   ],
   "source": [
    "def letters(str1, str2):\n",
    "    element1 = element2 = element3 = \"\"\n",
    "    for i in str1:\n",
    "        if i in str2:\n",
    "            element1 += str(i)\n",
    "            str2 = str2.replace(i,'')\n",
    "        elif i not in element1:\n",
    "            element2 += str(i)\n",
    "    element3 = str2\n",
    "    element1 = ''.join(set(element1))\n",
    "    element2 = ''.join(set(element2))\n",
    "    element3 = ''.join(set(element3))\n",
    "    result = [''.join(sorted(element1)), ''.join(sorted(element2)), ''.join(sorted(element3))]\n",
    "    return result\n",
    "\n",
    "print(letters(\"kerfuffle\", \"fluffy\"))\n",
    "print(letters(\"sharp\", \"soap\"))"
   ]
  },
  {
   "cell_type": "markdown",
   "id": "f2e730d3",
   "metadata": {},
   "source": [
    "3. Write a function that pairs the first number in an array with the last, the second number with the second to last, etc.\n",
    "\n",
    "Examples\n",
    "\n",
    "pairs([1, 2, 3, 4, 5, 6, 7]) ➞ [[1, 7], [2, 6], [3, 5], [4, 4]]\n",
    "\n",
    "pairs([1, 2, 3, 4, 5, 6]) ➞ [[1, 6], [2, 5], [3, 4]]\n",
    "\n",
    "pairs([5, 9, 8, 1, 2]) ➞ [[5, 2], [9, 1], [8, 8]]\n",
    "\n",
    "pairs([]) ➞ []\n"
   ]
  },
  {
   "cell_type": "code",
   "execution_count": 27,
   "id": "ddfc9008",
   "metadata": {},
   "outputs": [
    {
     "name": "stdout",
     "output_type": "stream",
     "text": [
      "[[1, 7], [2, 6], [3, 5], [4, 4]]\n",
      "[[1, 6], [2, 5], [3, 4], [3, 3]]\n",
      "[[5, 2], [9, 1], [8, 8]]\n",
      "[]\n"
     ]
    }
   ],
   "source": [
    "def pairs(l):\n",
    "    result = []\n",
    "    last = len(l)-1\n",
    "    if last>0:\n",
    "        for i in range(0,int(len(l)/2)):\n",
    "            result.append([l[i], l[last]])\n",
    "            last -= 1\n",
    "        result.append([l[last], l[last]])\n",
    "    return result\n",
    "    \n",
    "print(pairs([1, 2, 3, 4, 5, 6, 7]))\n",
    "print(pairs([1, 2, 3, 4, 5, 6]))\n",
    "print(pairs([5, 9, 8, 1, 2]))\n",
    "print(pairs([]))"
   ]
  },
  {
   "cell_type": "markdown",
   "id": "66217fe4",
   "metadata": {},
   "source": [
    "4. Write a function that adds two numbers. The catch, however, is that the numbers will be strings.\n",
    "\n",
    "Examples\n",
    "\n",
    "add_str_nums(\"4\", \"5\") ➞ \"9\"\n",
    "\n",
    "add_str_nums(\"abcdefg\", \"3\") ➞ \"-1\"\n",
    "\n",
    "add_str_nums(\"1\", \"\") ➞ \"1\"\n",
    "\n",
    "add_str_nums(\"1874682736267235927359283579235789257\", \"32652983572985729\") ➞ \"1874682736267235927391936562808774986\"\n"
   ]
  },
  {
   "cell_type": "code",
   "execution_count": 38,
   "id": "ba3d11c3",
   "metadata": {},
   "outputs": [
    {
     "name": "stdout",
     "output_type": "stream",
     "text": [
      "-1\n",
      "9\n",
      "1\n",
      "1874682736267235927391936562808774986\n"
     ]
    }
   ],
   "source": [
    "import re\n",
    "\n",
    "def add_str_nums(a,b):\n",
    "    if a == \"\":\n",
    "        a=str(0)\n",
    "    if b == \"\":\n",
    "        b=str(0)\n",
    "    if re.search(\"[a-zA-Z]\", a) or re.search(\"[a-zA-Z]\", b):\n",
    "        return -1\n",
    "    return int(a)+int(b)\n",
    "    \n",
    "print(add_str_nums(\"abcdefg\", \"3\"))\n",
    "print(add_str_nums(\"4\", \"5\"))\n",
    "print(add_str_nums(\"1\", \"\"))\n",
    "print(add_str_nums(\"1874682736267235927359283579235789257\", \"32652983572985729\"))"
   ]
  },
  {
   "cell_type": "markdown",
   "id": "e30993eb",
   "metadata": {},
   "source": [
    "5. lPaeesh le pemu mnxit ehess rtnisg! Oh, sorry, that was supposed to say: Please help me unmix these strings!\n",
    "\n",
    "Somehow my strings have all become mixed up; every pair of characters has been swapped. Help me undo this so I can understand my strings again.\n",
    "\n",
    "Examples\n",
    "\n",
    "unmix(\"123456\") ➞ \"214365\"\n",
    "\n",
    "unmix(\"hTsii  s aimex dpus rtni.g\") ➞ \"This is a mixed up string.\"\n",
    "\n",
    "unmix(\"badce\") ➞ \"abcde\"\n"
   ]
  },
  {
   "cell_type": "code",
   "execution_count": 39,
   "id": "c5b53519",
   "metadata": {},
   "outputs": [
    {
     "name": "stdout",
     "output_type": "stream",
     "text": [
      "Please help me unmix these strings!\n",
      "214365\n",
      "abcde\n",
      "This is a mixed up string.\n"
     ]
    }
   ],
   "source": [
    "def unmix(string):\n",
    "    l = list(string)\n",
    "    for i in range(0,len(l)-1,2):\n",
    "        l[i], l[i+1] = l[i+1], l[i]\n",
    "    return ''.join(l)\n",
    "        \n",
    "print(unmix(\"lPaeesh le pemu mnxit ehess rtnisg!\"))\n",
    "print(unmix(\"123456\"))\n",
    "print(unmix(\"badce\"))\n",
    "print(unmix(\"hTsii  s aimex dpus rtni.g\"))"
   ]
  }
 ],
 "metadata": {
  "kernelspec": {
   "display_name": "Python 3",
   "language": "python",
   "name": "python3"
  },
  "language_info": {
   "codemirror_mode": {
    "name": "ipython",
    "version": 3
   },
   "file_extension": ".py",
   "mimetype": "text/x-python",
   "name": "python",
   "nbconvert_exporter": "python",
   "pygments_lexer": "ipython3",
   "version": "3.8.8"
  }
 },
 "nbformat": 4,
 "nbformat_minor": 5
}
