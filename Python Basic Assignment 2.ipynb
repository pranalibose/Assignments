{
 "cells": [
  {
   "cell_type": "markdown",
   "id": "dfc338cd",
   "metadata": {},
   "source": [
    "1.\tWrite a Python program to convert kilometers to miles?"
   ]
  },
  {
   "cell_type": "code",
   "execution_count": 6,
   "id": "80e489a1",
   "metadata": {},
   "outputs": [
    {
     "name": "stdout",
     "output_type": "stream",
     "text": [
      "6 km = 3.7282260000000003 miles\n"
     ]
    }
   ],
   "source": [
    "constant = 0.621371    # 1km = 0.621371 miles\n",
    "def dist_convert(km):\n",
    "    return km*constant\n",
    "\n",
    "km = 6\n",
    "print(str(km) + \" km = \" + str(dist_convert(km)) + \" miles\")"
   ]
  },
  {
   "cell_type": "markdown",
   "id": "ced3ec51",
   "metadata": {},
   "source": [
    "2.\tWrite a Python program to convert Celsius to Fahrenheit?"
   ]
  },
  {
   "cell_type": "code",
   "execution_count": 9,
   "id": "69b961b2",
   "metadata": {},
   "outputs": [
    {
     "name": "stdout",
     "output_type": "stream",
     "text": [
      "32 Celsius = 89.6 Fahrenheit\n"
     ]
    }
   ],
   "source": [
    "# Using the formula (°C × 9/5) + 32 = °F\n",
    "\n",
    "constant = 9/5\n",
    "def temp_convert(cel):\n",
    "    return (cel*constant) + 32\n",
    "\n",
    "celsius = 32\n",
    "print(str(celsius) + \" Celsius = \" + str(temp_convert(celsius)) + \" Fahrenheit\")"
   ]
  },
  {
   "cell_type": "markdown",
   "id": "bbc09ad0",
   "metadata": {},
   "source": [
    "3.\tWrite a Python program to display calendar?"
   ]
  },
  {
   "cell_type": "code",
   "execution_count": 10,
   "id": "ccbd6dec",
   "metadata": {},
   "outputs": [
    {
     "name": "stdout",
     "output_type": "stream",
     "text": [
      "   December 2021\n",
      "Mo Tu We Th Fr Sa Su\n",
      "       1  2  3  4  5\n",
      " 6  7  8  9 10 11 12\n",
      "13 14 15 16 17 18 19\n",
      "20 21 22 23 24 25 26\n",
      "27 28 29 30 31\n",
      "\n"
     ]
    }
   ],
   "source": [
    "import calendar\n",
    "\n",
    "year = 2021\n",
    "month = 12\n",
    "\n",
    "print(calendar.month(year, month))"
   ]
  },
  {
   "cell_type": "markdown",
   "id": "5783f163",
   "metadata": {},
   "source": [
    "4.\tWrite a Python program to solve quadratic equation?"
   ]
  },
  {
   "cell_type": "code",
   "execution_count": 14,
   "id": "00e9d27b",
   "metadata": {},
   "outputs": [
    {
     "name": "stdout",
     "output_type": "stream",
     "text": [
      "The roots are\n",
      "(-3.414213562373095+0j)\n",
      "(-0.5857864376269049+0j)\n"
     ]
    }
   ],
   "source": [
    "# import complex math module\n",
    "import cmath\n",
    "  \n",
    "a = 1\n",
    "b = 4\n",
    "c = 2\n",
    "  \n",
    "# calculating  the discriminant \n",
    "dis = (b**2) - (4 * a*c)\n",
    "  \n",
    "# find two results (2 values of x by adding and subtracting from the discriminant and dividing the result by 2a)\n",
    "root1 = (-b-cmath.sqrt(dis))/(2 * a)\n",
    "root2 = (-b + cmath.sqrt(dis))/(2 * a)\n",
    "  \n",
    "# printing the results\n",
    "print('The roots are')\n",
    "print(root1)\n",
    "print(root2)"
   ]
  },
  {
   "cell_type": "markdown",
   "id": "615e14a5",
   "metadata": {},
   "source": [
    "5.\tWrite a Python program to swap two variables without temp variable?"
   ]
  },
  {
   "cell_type": "code",
   "execution_count": 11,
   "id": "cc399f50",
   "metadata": {},
   "outputs": [
    {
     "name": "stdout",
     "output_type": "stream",
     "text": [
      "Before swap:\n",
      "a = 2 b = 100\n",
      "After swap:\n",
      "a = 100 b = 2\n"
     ]
    }
   ],
   "source": [
    "# Swap function\n",
    "def swap(a,b):\n",
    "    a,b = b,a\n",
    "    return a,b\n",
    "\n",
    "a = 2\n",
    "b = 100\n",
    "print(\"Before swap:\")\n",
    "print(\"a = \" + str(a) + \" b = \" + str(b))\n",
    "a,b = swap(a, b)\n",
    "print(\"After swap:\")\n",
    "print(\"a = \" + str(a) + \" b = \" + str(b))"
   ]
  },
  {
   "cell_type": "code",
   "execution_count": null,
   "id": "bc0f940a",
   "metadata": {},
   "outputs": [],
   "source": []
  }
 ],
 "metadata": {
  "kernelspec": {
   "display_name": "Python 3",
   "language": "python",
   "name": "python3"
  },
  "language_info": {
   "codemirror_mode": {
    "name": "ipython",
    "version": 3
   },
   "file_extension": ".py",
   "mimetype": "text/x-python",
   "name": "python",
   "nbconvert_exporter": "python",
   "pygments_lexer": "ipython3",
   "version": "3.8.8"
  }
 },
 "nbformat": 4,
 "nbformat_minor": 5
}
