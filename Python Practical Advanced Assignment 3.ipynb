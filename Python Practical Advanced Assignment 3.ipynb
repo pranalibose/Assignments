{
 "cells": [
  {
   "cell_type": "markdown",
   "id": "6ee3a3c2",
   "metadata": {},
   "source": [
    "# Python Practical Advanced Assignment 3"
   ]
  },
  {
   "cell_type": "markdown",
   "id": "4d71aca9",
   "metadata": {},
   "source": [
    "1. Create a function to perform basic arithmetic operations that includes addition, subtraction, multiplication and division on a string number (e.g. \"12 + 24\" or \"23 - 21\" or \"12 // 12\" or \"12 * 21\").\n",
    "\n",
    "Here, we have 1 followed by a space, operator followed by another space and 2. For the challenge, we are going to have only two numbers between 1 valid operator. The return value should be a number.\n",
    "\n",
    "eval() is not allowed. In case of division, whenever the second number equals \"0\" return -1.\n",
    "\n",
    "For example:\n",
    "\"15 // 0\"  ➞ -1\n",
    "\n",
    "Examples\n",
    "arithmetic_operation(\"12 + 12\") ➞ 24 // 12 + 12 = 24\n",
    "\n",
    "arithmetic_operation(\"12 - 12\") ➞ 24 // 12 - 12 = 0\n",
    "\n",
    "arithmetic_operation(\"12 * 12\") ➞ 144 // 12 * 12 = 144\n",
    "\n",
    "arithmetic_operation(\"12 // 0\") ➞ -1 // 12 / 0 = -1\n"
   ]
  },
  {
   "cell_type": "code",
   "execution_count": 12,
   "id": "0646761d",
   "metadata": {},
   "outputs": [
    {
     "name": "stdout",
     "output_type": "stream",
     "text": [
      "24\n",
      "0\n",
      "144\n",
      "-1\n"
     ]
    }
   ],
   "source": [
    "def arithmetic_operation(string):\n",
    "    elements = string.split(\" \")\n",
    "    operator = elements[1]\n",
    "    if operator == \"+\":\n",
    "        return int(elements[0])+int(elements[2])\n",
    "    elif operator == \"-\":\n",
    "        return int(elements[0])-int(elements[2])\n",
    "    elif operator == \"*\":\n",
    "        return int(elements[0])*int(elements[2])\n",
    "    elif operator == \"//\":\n",
    "        if int(elements[2]) == 0:\n",
    "            return -1\n",
    "        return int(elements[0])//int(elements[2])\n",
    "\n",
    "print(arithmetic_operation(\"12 + 12\")) \n",
    "print(arithmetic_operation(\"12 - 12\"))\n",
    "print(arithmetic_operation(\"12 * 12\"))\n",
    "print(arithmetic_operation(\"12 // 0\"))"
   ]
  },
  {
   "cell_type": "markdown",
   "id": "7ad0dc85",
   "metadata": {},
   "source": [
    "2. Write a function that takes the coordinates of three points in the form of a 2d array and returns the perimeter of the triangle. The given points are the vertices of a triangle on a two-dimensional plane.\n",
    "\n",
    "Examples\n",
    "\n",
    "perimeter( [ [15, 7], [5, 22], [11, 1] ] ) ➞ 47.08\n",
    "\n",
    "perimeter( [ [0, 0], [0, 1], [1, 0] ] ) ➞ 3.42\n",
    "\n",
    "perimeter( [ [-10, -10], [10, 10 ], [-10, 10] ] ) ➞ 68.28\n"
   ]
  },
  {
   "cell_type": "code",
   "execution_count": 66,
   "id": "aff75886",
   "metadata": {},
   "outputs": [
    {
     "name": "stdout",
     "output_type": "stream",
     "text": [
      "47.08\n",
      "3.41\n",
      "68.28\n"
     ]
    }
   ],
   "source": [
    "# Perimeter = sum of distances between the points taken 2 at a time\n",
    "import math\n",
    "def perimeter(arr):\n",
    "    x=[]\n",
    "    y=[]\n",
    "    for i in arr:\n",
    "        x.append(i[0])\n",
    "        y.append(i[1])\n",
    "    dist1 = ((x[1]-x[0])**2 + (y[1]-y[0])**2)\n",
    "    dist2 = ((x[2]-x[1])**2 + (y[2]-y[1])**2)\n",
    "    dist3 = ((x[2]-x[0])**2 + (y[2]-y[0])**2)\n",
    "    return round(math.sqrt(dist1)+math.sqrt(dist2)+math.sqrt(dist3),2)\n",
    "\n",
    "print(perimeter( [ [15, 7], [5, 22], [11, 1] ] ))\n",
    "print(perimeter( [ [0, 0], [0, 1], [1, 0] ] ))\n",
    "print(perimeter( [ [-10, -10], [10, 10 ], [-10, 10] ] ))"
   ]
  },
  {
   "cell_type": "markdown",
   "id": "0fe78dbc",
   "metadata": {},
   "source": [
    "3. A city skyline can be represented as a 2-D list with 1s representing buildings. In the example below, the height of the tallest building is 4 (second-most right column).\n",
    "\n",
    "[[0, 0, 0, 0, 0, 0],\n",
    "[0, 0, 0, 0, 1, 0],\n",
    "[0, 0, 1, 0, 1, 0],\n",
    "[0, 1, 1, 1, 1, 0],\n",
    "[1, 1, 1, 1, 1, 1]]\n",
    "\n",
    "Create a function that takes a skyline (2-D list of 0's and 1's) and returns the height of the tallest skyscraper.\n",
    "\n",
    "Examples\n",
    "\n",
    "tallest_skyscraper([\n",
    "  [0, 0, 0, 0],\n",
    "  [0, 1, 0, 0],\n",
    "  [0, 1, 1, 0],\n",
    "  [1, 1, 1, 1]\n",
    "]) ➞ 3\n",
    "\n",
    "tallest_skyscraper([\n",
    "  [0, 1, 0, 0],\n",
    "  [0, 1, 0, 0],\n",
    "  [0, 1, 1, 0],\n",
    "  [1, 1, 1, 1]\n",
    "]) ➞ 4\n",
    "\n",
    "tallest_skyscraper([\n",
    "  [0, 0, 0, 0],\n",
    "  [0, 0, 0, 0],\n",
    "  [1, 1, 1, 0],\n",
    "  [1, 1, 1, 1]\n",
    "]) ➞ 2\n"
   ]
  },
  {
   "cell_type": "code",
   "execution_count": 73,
   "id": "c017e6f6",
   "metadata": {},
   "outputs": [
    {
     "name": "stdout",
     "output_type": "stream",
     "text": [
      "3\n",
      "4\n",
      "2\n"
     ]
    }
   ],
   "source": [
    "def tallest_skyscraper(array):\n",
    "    arr_count = len(array)\n",
    "    for i in array:\n",
    "        for bi in i:\n",
    "            if bi == 1:\n",
    "                return arr_count\n",
    "        arr_count -=1\n",
    "    return 0\n",
    "        \n",
    "print(tallest_skyscraper([ [0, 0, 0, 0], [0, 1, 0, 0], [0, 1, 1, 0], [1, 1, 1, 1] ]))\n",
    "print(tallest_skyscraper([ [0, 1, 0, 0], [0, 1, 0, 0], [0, 1, 1, 0], [1, 1, 1, 1] ]))\n",
    "print(tallest_skyscraper([ [0, 0, 0, 0], [0, 0, 0, 0], [1, 1, 1, 0], [1, 1, 1, 1] ]))\n"
   ]
  },
  {
   "cell_type": "markdown",
   "id": "b58f7fb4",
   "metadata": {},
   "source": [
    "4. A financial institution provides professional services to banks and claims charges from the customers based on the number of man-days provided. Internally, it has set a scheme to motivate and reward staff to meet and exceed targeted billable utilization and revenues by paying a bonus for each day claimed from customers in excess of a threshold target.\n",
    "\n",
    "This quarterly scheme is calculated with a threshold target of 32 days per quarter, and the incentive payment for each billable day in excess of such threshold target is shown as follows:\n",
    "\n",
    "Days\t                             Bonus\n",
    "\n",
    "0 to 32 days\t                   Zero\n",
    "\n",
    "33 to 40 days\t         SGD$325 per billable day\n",
    "\n",
    "41 to 48 days\t         SGD$550 per billable day\n",
    "\n",
    "Greater than 48 days      SGD$600 per billable day\n",
    "\n",
    "Please note that incentive payment is calculated progressively. As an example, if an employee reached total billable days of 45 in a quarter, his/her incentive payment is computed as follows:\n",
    "\n",
    "32*0 + 8*325 + 5*550 = 5350\n",
    "\n",
    "Write a function to read the billable days of an employee and return the bonus he/she has obtained in that quarter.\n",
    "\n",
    "Examples\n",
    "\n",
    "bonus(15) ➞ 0\n",
    "\n",
    "bonus(37) ➞ 1625\n",
    "\n",
    "bonus(50) ➞ 8200\n"
   ]
  },
  {
   "cell_type": "code",
   "execution_count": 38,
   "id": "ded9b4cb",
   "metadata": {},
   "outputs": [
    {
     "name": "stdout",
     "output_type": "stream",
     "text": [
      "0\n",
      "1625\n",
      "8200\n"
     ]
    }
   ],
   "source": [
    "def incentive(day,start,end,bonus):\n",
    "    period = (end+1)-start\n",
    "    if day > period:\n",
    "        inc = period*bonus\n",
    "        day = day-period\n",
    "    else:\n",
    "        inc = day*bonus\n",
    "        day = 0\n",
    "    return day,inc\n",
    "    \n",
    "def bonus(days):\n",
    "    amount = 0\n",
    "    if days<33:\n",
    "        return 0\n",
    "    days = days-32\n",
    "    days, inc = incentive(days,33,40,325)\n",
    "    amount += inc\n",
    "    if days !=0:\n",
    "        days, inc = incentive(days,41,48,550)\n",
    "        amount += inc\n",
    "    if days !=0:\n",
    "        amount += days*600\n",
    "    return amount\n",
    "\n",
    "print(bonus(15))\n",
    "print(bonus(37))\n",
    "print(bonus(50))"
   ]
  },
  {
   "cell_type": "markdown",
   "id": "c5c650a1",
   "metadata": {},
   "source": [
    "5. A number is said to be Disarium if the sum of its digits raised to their respective positions is the number itself.\n",
    "\n",
    "Create a function that determines whether a number is a Disarium or not.\n",
    "\n",
    "Examples\n",
    "\n",
    "is_disarium(75) ➞ False\n",
    " 7^1 + 5^2 = 7 + 25 = 32\n",
    "\n",
    "is_disarium(135) ➞ True\n",
    " 1^1 + 3^2 + 5^3 = 1 + 9 + 125 = 135\n",
    "\n",
    "is_disarium(544) ➞ False\n",
    "\n",
    "is_disarium(518) ➞ True\n",
    "\n",
    "is_disarium(466) ➞ False\n",
    "\n",
    "is_disarium(8) ➞ True\n"
   ]
  },
  {
   "cell_type": "code",
   "execution_count": 31,
   "id": "0e8ae0d6",
   "metadata": {},
   "outputs": [
    {
     "name": "stdout",
     "output_type": "stream",
     "text": [
      "True\n",
      "False\n",
      "True\n",
      "False\n",
      "True\n"
     ]
    }
   ],
   "source": [
    "# Calculate the number of digits\n",
    "def length(n):\n",
    "    s = 0\n",
    "    while (n>0):\n",
    "        num = n%10      # last digit\n",
    "        s+=1            # increment the length\n",
    "        n //= 10        # dropping off the last digit\n",
    "    return s\n",
    "\n",
    "def is_disarium(num):\n",
    "    size = length(num)\n",
    "    result = 0\n",
    "    original_num = num\n",
    "    while (num>0):\n",
    "        n = num%10\n",
    "        result += pow(n,size)\n",
    "        size -= 1\n",
    "        num //= 10\n",
    "    return True if result == original_num else False\n",
    "\n",
    "print(is_disarium(518))\n",
    "print(is_disarium(544))\n",
    "print(is_disarium(8))\n",
    "print(is_disarium(466))\n",
    "print(is_disarium(135))"
   ]
  }
 ],
 "metadata": {
  "kernelspec": {
   "display_name": "Python 3",
   "language": "python",
   "name": "python3"
  },
  "language_info": {
   "codemirror_mode": {
    "name": "ipython",
    "version": 3
   },
   "file_extension": ".py",
   "mimetype": "text/x-python",
   "name": "python",
   "nbconvert_exporter": "python",
   "pygments_lexer": "ipython3",
   "version": "3.8.8"
  }
 },
 "nbformat": 4,
 "nbformat_minor": 5
}
