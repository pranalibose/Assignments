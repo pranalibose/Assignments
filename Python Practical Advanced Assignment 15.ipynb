{
 "cells": [
  {
   "cell_type": "markdown",
   "id": "5cd07e40",
   "metadata": {},
   "source": [
    "# Python Practical Advanced Assignment 15"
   ]
  },
  {
   "cell_type": "markdown",
   "id": "749d250b",
   "metadata": {},
   "source": [
    "1. Write a function that returns True if a given name can generate an array of words.\n",
    "\n",
    "Examples\n",
    "\n",
    "anagram(\"Justin Bieber\", [\"injures\", \"ebb\", \"it\"]) ➞ True\n",
    "\n",
    "anagram(\"Natalie Portman\", [\"ornamental\", \"pita\"]) ➞ True\n",
    "\n",
    "anagram(\"Chris Pratt\", [\"chirps\", \"rat\"]) ➞ False\n",
    "Not all letters are used\n",
    "\n",
    "anagram(\"Jeff Goldblum\", [\"jog\", \"meld\", \"bluffs\"]) ➞ False\n",
    "\"s\" does not exist in the original name\n"
   ]
  },
  {
   "cell_type": "code",
   "execution_count": 1,
   "id": "50d7d695",
   "metadata": {},
   "outputs": [
    {
     "name": "stdout",
     "output_type": "stream",
     "text": [
      "True\n",
      "True\n",
      "False\n",
      "False\n"
     ]
    }
   ],
   "source": [
    "# joining the list of strings and sorting it before comparing with the sorted original string\n",
    "\n",
    "def anagram(string, l):\n",
    "    s = ''.join(l)\n",
    "    string = string.lower()\n",
    "    string = string.replace(' ', '')\n",
    "    if ''.join(sorted(s)) == ''.join(sorted(string)):\n",
    "        return True\n",
    "    return False\n",
    "    \n",
    "print(anagram(\"Justin Bieber\", [\"injures\", \"ebb\", \"it\"]))\n",
    "print(anagram(\"Natalie Portman\", [\"ornamental\", \"pita\"]))\n",
    "print(anagram(\"Chris Pratt\", [\"chirps\", \"rat\"]))\n",
    "print(anagram(\"Jeff Goldblum\", [\"jog\", \"meld\", \"bluffs\"]))"
   ]
  },
  {
   "cell_type": "markdown",
   "id": "91fdc12d",
   "metadata": {},
   "source": [
    "2. Given an array of users, each defined by an object with the following properties: name, score, reputation create a function that sorts the array to form the correct leaderboard.\n",
    "\n",
    "The leaderboard takes into consideration the score of each user of course, but an emphasis is put on their reputation in the community, so to get the trueScore, you should add the reputation multiplied by 2 to the score.\n",
    "\n",
    "Once you know the trueScore of each user, sort the array according to it in descending order.\n",
    "\n",
    "Examples\n",
    "\n",
    "leaderboards([\n",
    "  { \"name\": \"a\", \"score\": 100, \"reputation\": 20 },\n",
    "  { \"name\": \"b\", \"score\": 90, \"reputation\": 40 },\n",
    "  { \"name\": \"c\", \"score\": 115, \"reputation\": 30 },\n",
    "]) ➞ [\n",
    "  { \"name\": \"c\", \"score\": 115, \"reputation\": 30 },  # trueScore = 175\n",
    "  { \"name\": \"b\", \"score\": 90, \"reputation\": 40 },   # trueScore = 170\n",
    "  { \"name\": \"a\", \"score\": 100, \"reputation\": 20 }   # trueScore = 140\n",
    "]\n"
   ]
  },
  {
   "cell_type": "code",
   "execution_count": 2,
   "id": "5352907a",
   "metadata": {},
   "outputs": [
    {
     "name": "stdout",
     "output_type": "stream",
     "text": [
      "[{'name': 'c', 'score': 115, 'reputation': 30}, {'name': 'b', 'score': 90, 'reputation': 40}, {'name': 'a', 'score': 100, 'reputation': 20}]\n"
     ]
    }
   ],
   "source": [
    "def leaderboards(d1):\n",
    "    tot_score = []\n",
    "    for i in d1:\n",
    "        total_score = i['score'] + 2*i['reputation']\n",
    "        i['total'] = total_score\n",
    "        tot_score.append(i)\n",
    "    result = sorted(tot_score, key=lambda x: x['total'], reverse=True)\n",
    "    for k in result:\n",
    "        del k['total']\n",
    "    return result\n",
    "    \n",
    "print(leaderboards([ { \"name\": \"a\", \"score\": 100, \"reputation\": 20 }, { \"name\": \"b\", \"score\": 90, \"reputation\": 40 }, { \"name\": \"c\", \"score\": 115, \"reputation\": 30 }, ]))"
   ]
  },
  {
   "cell_type": "markdown",
   "id": "723753a5",
   "metadata": {},
   "source": [
    "3. Create a function that, given a phrase and a number of letters guessed, returns a string with hyphens - for every letter of the phrase not guessed, and each letter guessed in place.\n",
    "\n",
    "Examples\n",
    "\n",
    "hangman(\"helicopter\", [\"o\", \"e\", \"s\"]) ➞ \"-e---o--e-\"\n",
    "\n",
    "hangman(\"tree\", [\"r\", \"t\", \"e\"]) ➞ \"tree\"\n",
    "\n",
    "hangman(\"Python rules\", [\"a\", \"n\", \"p\", \"r\", \"z\"]) ➞ \"P----n r----\"\n",
    "\n",
    "hangman(\"He\"s a very naughty boy!\", [\"e\", \"a\", \"y\"]) ➞ \"-e\"- a -e-y -a----y –y!\"\n"
   ]
  },
  {
   "cell_type": "code",
   "execution_count": 3,
   "id": "f148560a",
   "metadata": {},
   "outputs": [
    {
     "name": "stdout",
     "output_type": "stream",
     "text": [
      "-e---o--e-\n",
      "tree\n",
      "P----n-r----\n"
     ]
    }
   ],
   "source": [
    "def hangman(string, arr):\n",
    "    for i in string.lower():\n",
    "        if i not in arr:\n",
    "            string = string.replace(i, '-')\n",
    "    return string\n",
    "            \n",
    "print(hangman(\"helicopter\", [\"o\", \"e\", \"s\"]))\n",
    "print(hangman(\"tree\", [\"r\", \"t\", \"e\"]))\n",
    "print(hangman(\"Python rules\", [\"a\", \"n\", \"p\", \"r\", \"z\"]))"
   ]
  },
  {
   "cell_type": "markdown",
   "id": "fcd191aa",
   "metadata": {},
   "source": [
    "4. The Collatz sequence is as follows:\n",
    "\n",
    "  - Start with some given integer n.\n",
    "  - If it is even, the next number will be n divided by 2.\n",
    "  - If it is odd, multiply it by 3 and add 1 to make the next number.\n",
    "  - The sequence stops when it reaches 1.\n",
    "\n",
    "According to the Collatz conjecture, it will always reach 1. If that's true, you can construct a finite sequence following the aforementioned method for any given integer.\n",
    "\n",
    "Write a function that takes in an integer n and returns the highest integer in the corresponding Collatz sequence.\n",
    "\n",
    "Examples\n",
    "\n",
    "max_collatz(10) ➞ 16\n",
    " Collatz sequence: 10, 5, 16, 8, 4, 2, 1\n",
    "\n",
    "max_collatz(32) ➞ 32\n",
    " Collatz sequence: 32, 16, 8, 4, 2, 1\n",
    "\n",
    "max_collatz(85) ➞ 256\n",
    " Collatz sequence: 85, 256, 128, 64, 32, 16, 8, 4, 2, 1\n"
   ]
  },
  {
   "cell_type": "code",
   "execution_count": 8,
   "id": "bf69d6d9",
   "metadata": {},
   "outputs": [
    {
     "name": "stdout",
     "output_type": "stream",
     "text": [
      "16\n",
      "32\n",
      "256\n"
     ]
    }
   ],
   "source": [
    "def max_collatz(num):\n",
    "    n = num\n",
    "    result = []\n",
    "    result.append(num)\n",
    "    while n!=1:\n",
    "        if n%2 == 0:\n",
    "            n = n/2\n",
    "        else:\n",
    "            n = (n*3)+1\n",
    "        result.append(n)    \n",
    "    return int(max(result))\n",
    "\n",
    "print(max_collatz(10))\n",
    "print(max_collatz(32))\n",
    "print(max_collatz(256))"
   ]
  },
  {
   "cell_type": "markdown",
   "id": "381ede2d",
   "metadata": {},
   "source": [
    "5. Write a function that sorts a list of integers by their digit length in descending order, then settles ties by sorting numbers with the same digit length in ascending order.\n",
    "\n",
    "Examples\n",
    "\n",
    "digit_sort([77, 23, 5, 7, 101])\n",
    "➞ [101, 23, 77, 5, 7]\n",
    "\n",
    "digit_sort([1, 5, 9, 2, 789, 563, 444])\n",
    "➞ [444, 563, 789, 1, 2, 5, 9]\n",
    "\n",
    "digit_sort([53219, 3772, 564, 32, 1])\n",
    "➞ [53219, 3772, 564, 32, 1]\n"
   ]
  },
  {
   "cell_type": "code",
   "execution_count": 27,
   "id": "242c09ec",
   "metadata": {},
   "outputs": [
    {
     "name": "stdout",
     "output_type": "stream",
     "text": [
      "[101, 23, 77, 5, 7]\n",
      "[444, 563, 789, 1, 2, 5, 9]\n",
      "[53219, 3772, 564, 32, 1]\n"
     ]
    }
   ],
   "source": [
    "def arrange(a):\n",
    "    return sorted(a)\n",
    "\n",
    "def digit_sort(l):\n",
    "    result = []\n",
    "    l.sort(reverse = True)\n",
    "    length = len(str(l[0]))\n",
    "    sort = []\n",
    "    for i in l:\n",
    "        if len(str(i))  == length:\n",
    "            sort.append(i)\n",
    "        else:\n",
    "            result.append(arrange(sort))\n",
    "            sort = []\n",
    "            sort.append(i)\n",
    "            length = len(str(i))\n",
    "    result.append(arrange(sort))\n",
    "    return [item for sublist in result for item in sublist]\n",
    "        \n",
    "print(digit_sort([77, 23, 5, 7, 101]))\n",
    "print(digit_sort([1, 5, 9, 2, 789, 563, 444]))\n",
    "print(digit_sort([53219, 3772, 564, 32, 1]))"
   ]
  }
 ],
 "metadata": {
  "kernelspec": {
   "display_name": "Python 3",
   "language": "python",
   "name": "python3"
  },
  "language_info": {
   "codemirror_mode": {
    "name": "ipython",
    "version": 3
   },
   "file_extension": ".py",
   "mimetype": "text/x-python",
   "name": "python",
   "nbconvert_exporter": "python",
   "pygments_lexer": "ipython3",
   "version": "3.8.8"
  }
 },
 "nbformat": 4,
 "nbformat_minor": 5
}
