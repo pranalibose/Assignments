{
 "cells": [
  {
   "cell_type": "markdown",
   "id": "5d0c4a5c",
   "metadata": {},
   "source": [
    "# Python Practical Advanced Assignment 12"
   ]
  },
  {
   "cell_type": "markdown",
   "id": "a48e2b34",
   "metadata": {},
   "source": [
    "1. For this challenge, forget how to add two numbers together. The best explanation on what to do for this function is this meme:\n",
    "\n",
    "Examples\n",
    "\n",
    "meme_sum(26, 39) ➞ 515\n",
    "\n",
    "2+3 = 5, 6+9 = 15\n",
    "\n",
    "26 + 39 = 515\n",
    "\n",
    "meme_sum(122, 81) ➞ 1103\n",
    "\n",
    "1+0 = 1, 2+8 = 10, 2+1 = 3\n",
    "\n",
    "122 + 81 = 1103\n",
    "\n",
    "meme_sum(1222, 30277) ➞ 31499\n"
   ]
  },
  {
   "cell_type": "code",
   "execution_count": 54,
   "id": "ecc533e3",
   "metadata": {},
   "outputs": [
    {
     "name": "stdout",
     "output_type": "stream",
     "text": [
      "515\n",
      "1103\n",
      "31499\n"
     ]
    }
   ],
   "source": [
    "def meme_sum(a,b):\n",
    "    a = str(a)\n",
    "    b = str(b)\n",
    "    result = []\n",
    "    if len(str(b))>len(str(a)):\n",
    "        b,a = a,b\n",
    "    length = len(str(b))\n",
    "    for i in reversed(a):\n",
    "        if(length-1>-1):\n",
    "            result.append(str(int(i)+int(b[length-1])))\n",
    "        else:\n",
    "            result.append(str(i))\n",
    "        length -= 1\n",
    "    result.reverse()\n",
    "    result = ''.join(result)\n",
    "    return result\n",
    "\n",
    "print(meme_sum(26, 39))\n",
    "print(meme_sum(122, 81))\n",
    "print(meme_sum(1222, 30277))"
   ]
  },
  {
   "cell_type": "markdown",
   "id": "a3c761df",
   "metadata": {},
   "source": [
    "2. Given an integer, create a function that returns the next prime. If the number is prime, return the number itself.\n",
    "\n",
    "Examples\n",
    "\n",
    "next_prime(12) ➞ 13\n",
    "\n",
    "next_prime(24) ➞ 29\n",
    "\n",
    "next_prime(11) ➞ 11  11 is a prime, so we return the number itself.\n"
   ]
  },
  {
   "cell_type": "code",
   "execution_count": 7,
   "id": "45f4d33f",
   "metadata": {},
   "outputs": [
    {
     "name": "stdout",
     "output_type": "stream",
     "text": [
      "797\n"
     ]
    }
   ],
   "source": [
    "def check_prime(n):\n",
    "    for i in range(2, int(n/2)+1):\n",
    "        if n%i == 0:\n",
    "            return False\n",
    "    return True\n",
    "\n",
    "def next_prime(num):\n",
    "    for i in range(num, num+100):\n",
    "        if check_prime(i) == True:\n",
    "            return i\n",
    "        \n",
    "print(next_prime(789))"
   ]
  },
  {
   "cell_type": "markdown",
   "id": "d0da5407",
   "metadata": {},
   "source": [
    "3. If a person traveled up a hill for 18mins at 20mph and then traveled back down the same path at 60mph then their average speed traveled was 30mph.\n",
    "\n",
    "Write a function that returns the average speed traveled given an uphill time, uphill rate and a downhill rate. Uphill time is given in minutes. Return the rate as an integer (mph). No rounding is necessary.\n",
    "\n",
    "Examples\n",
    "\n",
    "ave_spd(18, 20, 60) ➞ 30\n",
    "\n",
    "ave_spd(30, 10, 30) ➞ 15\n",
    "\n",
    "ave_spd(30, 8, 24) ➞ 12\n"
   ]
  },
  {
   "cell_type": "code",
   "execution_count": 14,
   "id": "b087f8a6",
   "metadata": {},
   "outputs": [
    {
     "name": "stdout",
     "output_type": "stream",
     "text": [
      "30\n",
      "15\n",
      "12\n"
     ]
    }
   ],
   "source": [
    "# Average Speed = Total distance travelled / Total time taken to cover the distance\n",
    "def ave_spd(t1, s1, s2):\n",
    "    d = s1 * (t1/60)             # distance in miles\n",
    "    t2 = d/s2                    # downhill time\n",
    "    return int((2*d) / ((t1/60) + t2))\n",
    "\n",
    "print(ave_spd(18, 20, 60))\n",
    "print(ave_spd(30, 10, 30))\n",
    "print(ave_spd(30, 8, 24))"
   ]
  },
  {
   "cell_type": "markdown",
   "id": "7c5880e3",
   "metadata": {},
   "source": [
    "4. The Kempner Function, applied to a composite number, permits to find the smallest integer greater than zero whose factorial is exactly divided by the number.\n",
    "\n",
    "kempner(6) ➞ 3\n",
    "\n",
    "1! = 1 % 6 > 0\n",
    "2! = 2 % 6 > 0\n",
    "3! = 6 % 6 === 0\n",
    "\n",
    "kempner(10) ➞ 5\n",
    "\n",
    "1! = 1 % 10 > 0\n",
    "2! = 2 % 10 > 0\n",
    "3! = 6 % 10 > 0\n",
    "4! = 24 % 10 > 0\n",
    "5! = 120 % 10 === 0\n",
    "\n",
    "A Kempner Function applied to a prime will always return the prime itself.\n",
    "\n",
    "kempner(2) ➞ 2\n",
    "kempner(5) ➞ 5\n",
    "\n",
    "Given an integer n, implement a Kempner Function.\n",
    "\n",
    "Examples\n",
    "\n",
    "kempner(6) ➞ 3\n",
    "\n",
    "kempner(10) ➞ 5\n",
    "\n",
    "kempner(2) ➞ 2\n"
   ]
  },
  {
   "cell_type": "code",
   "execution_count": 24,
   "id": "e3c95e48",
   "metadata": {},
   "outputs": [
    {
     "name": "stdout",
     "output_type": "stream",
     "text": [
      "1\n",
      "2\n",
      "6\n",
      "24\n",
      "120\n",
      "5\n"
     ]
    }
   ],
   "source": [
    "def fact(num):\n",
    "    prod = 1\n",
    "    for i in range(2,num+1):\n",
    "        prod *= i\n",
    "    return prod\n",
    "\n",
    "def check_prime(p):\n",
    "    for i in range(2,int(p/2)+1):\n",
    "        if p%i == 0:\n",
    "            return False\n",
    "    return True\n",
    "\n",
    "def kempner(n):\n",
    "    if check_prime(n) == True:\n",
    "        return n\n",
    "    for i in range(1,n+1):\n",
    "        if fact(i)%n == 0:\n",
    "            return i\n",
    "        \n",
    "print(kempner(20))"
   ]
  },
  {
   "cell_type": "markdown",
   "id": "b7697d7a",
   "metadata": {},
   "source": [
    "5. You work in a factory, and your job is to take items from a conveyor belt and pack them into boxes. Each box can hold a maximum of 10 kgs. Given a list containing the weight (in kg) of each item, how many boxes would you need to pack all of the items?\n",
    "\n",
    "Example\n",
    "\n",
    "boxes([2, 1, 2, 5, 4, 3, 6, 1, 1, 9, 3, 2]) ➞ 5\n",
    "\n",
    "Box 1 = [2, 1, 2, 5] (10kg)\n",
    "\n",
    "Box 2 = [4, 3] (7kg)\n",
    "\n",
    "Box 3 = [6, 1, 1] (8kg)\n",
    "\n",
    "Box 4 = [9] (9kg)\n",
    "\n",
    "Box 5 = [3, 2] (5kg)\n"
   ]
  },
  {
   "cell_type": "code",
   "execution_count": 6,
   "id": "c744cd95",
   "metadata": {},
   "outputs": [
    {
     "name": "stdout",
     "output_type": "stream",
     "text": [
      "8\n"
     ]
    }
   ],
   "source": [
    "def boxes(l):\n",
    "    weight = count = 0\n",
    "    for i in l:\n",
    "        weight += i\n",
    "        if weight >= 10:\n",
    "            count +=1\n",
    "            weight = i\n",
    "    return count\n",
    "\n",
    "print(boxes([2, 1, 2, 5, 4, 3, 6, 1, 1, 9, 3, 2]))        "
   ]
  }
 ],
 "metadata": {
  "kernelspec": {
   "display_name": "Python 3",
   "language": "python",
   "name": "python3"
  },
  "language_info": {
   "codemirror_mode": {
    "name": "ipython",
    "version": 3
   },
   "file_extension": ".py",
   "mimetype": "text/x-python",
   "name": "python",
   "nbconvert_exporter": "python",
   "pygments_lexer": "ipython3",
   "version": "3.8.8"
  }
 },
 "nbformat": 4,
 "nbformat_minor": 5
}
