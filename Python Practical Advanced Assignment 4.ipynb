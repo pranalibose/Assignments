{
 "cells": [
  {
   "cell_type": "markdown",
   "id": "b3d57c2f",
   "metadata": {},
   "source": [
    "# Python Practical Advanced Assignment 4"
   ]
  },
  {
   "cell_type": "markdown",
   "id": "e17824ec",
   "metadata": {},
   "source": [
    "1. In mathematics, the Fibonacci numbers, commonly denoted Fn, form a sequence, called the Fibonacci sequence, such that each number is the sum of the two preceding ones, starting from 0 and 1:\n",
    "\n",
    "The beginning of the sequence is this:\n",
    "\n",
    "0, 1, 1, 2, 3, 5, 8, 13, 21, 34, 55, 89, 144, ...\n",
    "\n",
    "The function fastFib(num) returns the fibonacci number Fn, of the given num as an argument.\n",
    "\n",
    "Examples\n",
    "\n",
    "fib_fast(5) ➞ 5\n",
    "\n",
    "fib_fast(10) ➞ 55\n",
    "\n",
    "fib_fast(20) ➞ 6765\n",
    "\n",
    "fib_fast(50) ➞ 12586269025\n"
   ]
  },
  {
   "cell_type": "code",
   "execution_count": 7,
   "id": "c85378dd",
   "metadata": {},
   "outputs": [
    {
     "name": "stdout",
     "output_type": "stream",
     "text": [
      "5\n",
      "55\n",
      "6765\n",
      "12586269025\n"
     ]
    }
   ],
   "source": [
    "def fib(num):\n",
    "    a=0\n",
    "    b=1\n",
    "    for i in range(0,num-1):\n",
    "        a,b = b,a+b\n",
    "    return b\n",
    "    \n",
    "def fib_fast(n):\n",
    "    if n == 0:\n",
    "        return 0\n",
    "    if n == 1:\n",
    "        return 1\n",
    "    return (fib(n-1) + fib(n-2))\n",
    "\n",
    "print(fib_fast(5))\n",
    "print(fib_fast(10))\n",
    "print(fib_fast(20))\n",
    "print(fib_fast(50))"
   ]
  },
  {
   "cell_type": "markdown",
   "id": "e0067121",
   "metadata": {},
   "source": [
    "2. Create a function that takes a strings characters as ASCII and returns each characters hexadecimal value as a string.\n",
    "\n",
    "Examples\n",
    "\n",
    "convert_to_hex(\"hello world\") ➞ \"68 65 6c 6c 6f 20 77 6f 72 6c 64\"\n",
    "\n",
    "convert_to_hex(\"Big Boi\") ➞ \"42 69 67 20 42 6f 69\"\n",
    "\n",
    "convert_to_hex(\"Marty Poppinson\") ➞ \"4d 61 72 74 79 20 50 6f 70 70 69 6e 73 6f 6e\""
   ]
  },
  {
   "cell_type": "code",
   "execution_count": 23,
   "id": "db4a0aa3",
   "metadata": {},
   "outputs": [
    {
     "data": {
      "text/plain": [
       "' 68 65 6c 6c 6f 20 77 6f 72 6c 64'"
      ]
     },
     "execution_count": 23,
     "metadata": {},
     "output_type": "execute_result"
    }
   ],
   "source": [
    "def convert_to_hex(string):\n",
    "    hex_str = \"\"\n",
    "    for i in string:\n",
    "        h = hex(ord(i))\n",
    "        i = format(ord(i), \"x\")\n",
    "        hex_str = hex_str + \" \" + str(i)\n",
    "    return hex_str\n",
    "\n",
    "convert_to_hex(\"hello world\")"
   ]
  },
  {
   "cell_type": "markdown",
   "id": "338b4fa6",
   "metadata": {},
   "source": [
    "3. Someone has attempted to censor my strings by replacing every vowel with a *, l*k* th*s. Luckily, I've been able to find the vowels that were removed.\n",
    "\n",
    "Given a censored string and a string of the censored vowels, return the original uncensored string.\n",
    "\n",
    "Example\n",
    "\n",
    "uncensor(\"Wh*r* d*d my v*w*ls g*?\", \"eeioeo\") ➞ \"Where did my vowels go?\"\n",
    "\n",
    "uncensor(\"abcd\", \"\") ➞ \"abcd\"\n",
    "\n",
    "uncensor(\"*PP*RC*S*\", \"UEAE\") ➞ \"UPPERCASE\"\n"
   ]
  },
  {
   "cell_type": "code",
   "execution_count": 56,
   "id": "d3731467",
   "metadata": {},
   "outputs": [
    {
     "name": "stdout",
     "output_type": "stream",
     "text": [
      "abcd\n",
      "UPPERCASE\n",
      "Where did my vowels go?\n"
     ]
    }
   ],
   "source": [
    "def uncensor(string,vowels):\n",
    "    l = []\n",
    "    str1 = \"\"\n",
    "    index = 0\n",
    "    for i in string:\n",
    "        if i == \"*\":\n",
    "            string = string.replace(i,vowels[index])\n",
    "            l.append(vowels[index])\n",
    "            index += 1\n",
    "        else:\n",
    "            l.append(i)\n",
    "    return str1.join(l)\n",
    "\n",
    "print(uncensor(\"abcd\", \"\"))\n",
    "print(uncensor(\"*PP*RC*S*\", \"UEAE\"))\n",
    "print(uncensor(\"Wh*r* d*d my v*w*ls g*?\", \"eeioeo\"))"
   ]
  },
  {
   "cell_type": "markdown",
   "id": "7dfdc858",
   "metadata": {},
   "source": [
    "4. Write a function that takes an IP address and returns the domain name using PTR DNS records.\n",
    "\n",
    "Example\n",
    "\n",
    "get_domain(\"8.8.8.8\") ➞ \"dns.google\"\n",
    "\n",
    "get_domain(\"8.8.4.4\") ➞ \"dns.google\"\n"
   ]
  },
  {
   "cell_type": "code",
   "execution_count": 80,
   "id": "29527741",
   "metadata": {},
   "outputs": [
    {
     "name": "stdout",
     "output_type": "stream",
     "text": [
      "Domain name using PTR DNS:\n",
      "8.8.8.8 :\n",
      "dns.google\n",
      "8.8.4.4 :\n",
      "dns.google\n"
     ]
    }
   ],
   "source": [
    "def get_domain(ip):\n",
    "    import socket\n",
    "    result=socket.gethostbyaddr(ip)\n",
    "    return list(result)[0]\n",
    "\n",
    "print(\"Domain name using PTR DNS:\")\n",
    "print(\"8.8.8.8 :\")\n",
    "print(get_domain_name(\"8.8.8.8\"))\n",
    "print(\"8.8.4.4 :\")\n",
    "print(get_domain_name(\"8.8.4.4\"))"
   ]
  },
  {
   "cell_type": "markdown",
   "id": "56b2f33d",
   "metadata": {},
   "source": [
    "5. Create a function that takes an integer n and returns the factorial of factorials. See below examples for a better understanding:\n",
    "\n",
    "Examples\n",
    "\n",
    "fact_of_fact(4) ➞ 288\n",
    "4! * 3! * 2! * 1! = 288\n",
    "\n",
    "fact_of_fact(5) ➞ 34560\n",
    "\n",
    "fact_of_fact(6) ➞ 24883200"
   ]
  },
  {
   "cell_type": "code",
   "execution_count": 69,
   "id": "8536ae5d",
   "metadata": {},
   "outputs": [
    {
     "name": "stdout",
     "output_type": "stream",
     "text": [
      "34560\n"
     ]
    }
   ],
   "source": [
    "def fact(n):\n",
    "    factorial = 1\n",
    "    for i in range(1,n+1):\n",
    "        factorial = factorial*i\n",
    "    return factorial\n",
    "    \n",
    "def fact_of_fact(num):\n",
    "    product = 1\n",
    "    for i in range(1,num+1):\n",
    "        product *= fact(i)\n",
    "    return product\n",
    "\n",
    "print(fact_of_fact(5))"
   ]
  }
 ],
 "metadata": {
  "kernelspec": {
   "display_name": "Python 3",
   "language": "python",
   "name": "python3"
  },
  "language_info": {
   "codemirror_mode": {
    "name": "ipython",
    "version": 3
   },
   "file_extension": ".py",
   "mimetype": "text/x-python",
   "name": "python",
   "nbconvert_exporter": "python",
   "pygments_lexer": "ipython3",
   "version": "3.8.8"
  }
 },
 "nbformat": 4,
 "nbformat_minor": 5
}
