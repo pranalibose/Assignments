{
 "cells": [
  {
   "cell_type": "markdown",
   "id": "0fdc9ba1",
   "metadata": {},
   "source": [
    "### Question 1:\n",
    "\n",
    "Define a class with a generator which can iterate the numbers, which are divisible by\n",
    "7, between a given range 0 and n."
   ]
  },
  {
   "cell_type": "code",
   "execution_count": 1,
   "id": "ea01b49e",
   "metadata": {},
   "outputs": [
    {
     "name": "stdout",
     "output_type": "stream",
     "text": [
      "Enter max range: 100\n",
      "0\n",
      "7\n",
      "14\n",
      "21\n",
      "28\n",
      "35\n",
      "42\n",
      "49\n",
      "56\n",
      "63\n",
      "70\n",
      "77\n",
      "84\n",
      "91\n",
      "98\n"
     ]
    }
   ],
   "source": [
    "def generator(num):\n",
    "    for i in range(num):\n",
    "        if i%7==0:\n",
    "            yield i\n",
    "            \n",
    "number = int(input(\"Enter max range: \"))\n",
    "for i in generator(number):\n",
    "    print(i)"
   ]
  },
  {
   "cell_type": "markdown",
   "id": "ab64c5cb",
   "metadata": {},
   "source": [
    "### Question 2:\n",
    "\n",
    "Write a program to compute the frequency of the words from the input. The output\n",
    "should output after sorting the key alphanumerically.\n",
    "\n",
    "Suppose the following input is supplied to the program:\n",
    "New to Python or choosing between Python 2 and Python 3? Read Python 2 or\n",
    "Python 3.\n",
    "\n",
    "Then, the output should be:\n",
    "2:2\n",
    "3.:1\n",
    "3?:1\n",
    "New:1\n",
    "Python:5\n",
    "Read:1\n",
    "and:1\n",
    "between:1\n",
    "choosing:1\n",
    "or:2\n",
    "to:1"
   ]
  },
  {
   "cell_type": "code",
   "execution_count": 18,
   "id": "65cdcdb5",
   "metadata": {},
   "outputs": [
    {
     "name": "stdout",
     "output_type": "stream",
     "text": [
      "2 : 2\n",
      "3. : 1\n",
      "3? : 1\n",
      "New : 1\n",
      "Python : 5\n",
      "Read : 1\n",
      "and : 1\n",
      "between : 1\n",
      "choosing : 1\n",
      "or : 2\n",
      "to : 1\n"
     ]
    }
   ],
   "source": [
    "import regex as re\n",
    "def word_count(sentence):\n",
    "    elements = []\n",
    "    dictionary = {}\n",
    "    for i in sentence.split():\n",
    "        elements.append(i)\n",
    "    for i in elements:\n",
    "        if i not in dictionary.keys():\n",
    "            dictionary[i] = elements.count(i)\n",
    "    for key, val in sorted(dictionary.items()):\n",
    "        print(key,\":\",val)\n",
    "        \n",
    "word_count('New to Python or choosing between Python 2 and Python 3? Read Python 2 or Python 3.')"
   ]
  },
  {
   "cell_type": "markdown",
   "id": "f53b2b76",
   "metadata": {},
   "source": [
    "### Question 3:\n",
    "\n",
    "Define a class Person and its two child classes: Male and Female. All classes have a\n",
    "method &quot;getGender&quot; which can print &quot;Male&quot; for Male class and &quot;Female&quot; for Female\n",
    "class."
   ]
  },
  {
   "cell_type": "code",
   "execution_count": 4,
   "id": "aca59488",
   "metadata": {},
   "outputs": [
    {
     "name": "stdout",
     "output_type": "stream",
     "text": [
      "Person\n",
      "Male\n",
      "Female\n"
     ]
    }
   ],
   "source": [
    "class Person():\n",
    "    def getGender(self):\n",
    "        return \"Person\"\n",
    "    \n",
    "class Male(Person):\n",
    "    def getGender(self):\n",
    "        return \"Male\"\n",
    "\n",
    "class Female(Person):\n",
    "    def getGender(self):\n",
    "        return \"Female\"\n",
    "    \n",
    "person = Person()\n",
    "print(person.getGender())\n",
    "male = Male()\n",
    "print(male.getGender())\n",
    "female = Female()\n",
    "print(female.getGender())"
   ]
  },
  {
   "cell_type": "markdown",
   "id": "31137062",
   "metadata": {},
   "source": [
    "### Question 4:\n",
    "    \n",
    "Please write a program to generate all sentences where subject is in [&quot;I&quot;, &quot;You&quot;] and\n",
    "\n",
    "verb is in [&quot;Play&quot;, &quot;Love&quot;] and the object is in [&quot;Hockey&quot;,&quot;Football&quot;]."
   ]
  },
  {
   "cell_type": "code",
   "execution_count": 31,
   "id": "5fdb7e4d",
   "metadata": {},
   "outputs": [
    {
     "name": "stdout",
     "output_type": "stream",
     "text": [
      "You Love Hockey\n",
      "I Play Football\n",
      "You Play Football\n"
     ]
    }
   ],
   "source": [
    "def extract(sentence_list):\n",
    "    list_of_words = []\n",
    "    for i in sentence_list:\n",
    "        list_of_words = i.split(' ')\n",
    "        if list_of_words[0] in [\"You\", \"I\"] and list_of_words[1] in [\"Play\", \"Love\"] and list_of_words[2] in [\"Hockey\",\"Football\"]:\n",
    "            print(i)\n",
    "\n",
    "extract([\"I play carrom\", \"You drink coffee\", \"She plays piano\", \"You Love Hockey\", \"I Play Football\", \"You Play Football\"])"
   ]
  },
  {
   "cell_type": "markdown",
   "id": "64f274e5",
   "metadata": {},
   "source": [
    "### Question 5:\n",
    "\n",
    "Please write a program to compress and decompress the string &quot;hello world!hello\n",
    "world!hello world!hello world!&quot;."
   ]
  },
  {
   "cell_type": "code",
   "execution_count": 8,
   "id": "102b7a56",
   "metadata": {},
   "outputs": [
    {
     "name": "stdout",
     "output_type": "stream",
     "text": [
      "hello world!\n",
      "hello world!hello world!hello world!\n"
     ]
    }
   ],
   "source": [
    "def decompress(words):\n",
    "    return words*3\n",
    "    \n",
    "def compress(string):\n",
    "    index = 0\n",
    "    for i in range(len(string)):\n",
    "        if string[i].isalnum()==False and string[i]!= \" \":\n",
    "            index = i\n",
    "            break\n",
    "    return string[:index+1]\n",
    "        \n",
    "print(compress(\"hello world!hello world!hello world!hello world!\"))\n",
    "print(decompress(\"hello world!\"))"
   ]
  },
  {
   "cell_type": "markdown",
   "id": "7ef70df2",
   "metadata": {},
   "source": [
    "### Question 6:\n",
    "    \n",
    "Please write a binary search function which searches an item in a sorted list. The\n",
    "function should return the index of element to be searched in the list."
   ]
  },
  {
   "cell_type": "code",
   "execution_count": 11,
   "id": "aebac31c",
   "metadata": {},
   "outputs": [
    {
     "data": {
      "text/plain": [
       "4"
      ]
     },
     "execution_count": 11,
     "metadata": {},
     "output_type": "execute_result"
    }
   ],
   "source": [
    "def binary_search(sorted_list, item):\n",
    "    low = mid = 0  \n",
    "    high = len(sorted_list) - 1  \n",
    "    while low <= high:  \n",
    "        mid = (high + low) // 2  \n",
    "        if sorted_list[mid] < item:  \n",
    "            low = mid + 1    \n",
    "        elif sorted_list[mid] > item:  \n",
    "            high = mid - 1   \n",
    "        else:  \n",
    "            return mid  \n",
    "    return -1\n",
    "\n",
    "binary_search([45,50,55,57,60,70,85,86,90,99,100], 60)"
   ]
  }
 ],
 "metadata": {
  "kernelspec": {
   "display_name": "Python 3",
   "language": "python",
   "name": "python3"
  },
  "language_info": {
   "codemirror_mode": {
    "name": "ipython",
    "version": 3
   },
   "file_extension": ".py",
   "mimetype": "text/x-python",
   "name": "python",
   "nbconvert_exporter": "python",
   "pygments_lexer": "ipython3",
   "version": "3.8.8"
  }
 },
 "nbformat": 4,
 "nbformat_minor": 5
}
