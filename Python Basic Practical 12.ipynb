{
 "cells": [
  {
   "cell_type": "markdown",
   "id": "da25062e",
   "metadata": {},
   "source": [
    "### Write a Python program to Extract Unique values dictionary values?"
   ]
  },
  {
   "cell_type": "code",
   "execution_count": 1,
   "id": "2e80e322",
   "metadata": {},
   "outputs": [
    {
     "data": {
      "text/plain": [
       "{75, 80, 90}"
      ]
     },
     "execution_count": 1,
     "metadata": {},
     "output_type": "execute_result"
    }
   ],
   "source": [
    "def unique_dict(dictionary):\n",
    "    return set(dictionary.values())\n",
    "\n",
    "unique_dict({'maths': 75, 'english': 80, 'science': 80, ' hindi': 75, ' G.K.': 90, 'computer': 90})"
   ]
  },
  {
   "cell_type": "markdown",
   "id": "80e31ab1",
   "metadata": {},
   "source": [
    "### Write a Python program to find the sum of all items in a dictionary?"
   ]
  },
  {
   "cell_type": "code",
   "execution_count": 36,
   "id": "85c59db1",
   "metadata": {},
   "outputs": [
    {
     "data": {
      "text/plain": [
       "490"
      ]
     },
     "execution_count": 36,
     "metadata": {},
     "output_type": "execute_result"
    }
   ],
   "source": [
    "def sum_items(d1):\n",
    "    sum1 = 0\n",
    "    for val in d1.values():\n",
    "        sum1 = sum1+val\n",
    "    return sum1\n",
    "\n",
    "sum_items({'maths': 75, 'english': 80, 'science': 80, ' hindi': 75, ' G.K.': 90, 'computer': 90})"
   ]
  },
  {
   "cell_type": "markdown",
   "id": "5e0d2b93",
   "metadata": {},
   "source": [
    "### Write a Python program to Merging two Dictionaries?"
   ]
  },
  {
   "cell_type": "code",
   "execution_count": 15,
   "id": "56c2cb57",
   "metadata": {},
   "outputs": [
    {
     "data": {
      "text/plain": [
       "{'science': 80,\n",
       " ' hindi': 75,\n",
       " ' G.K.': 90,\n",
       " 'computer': 90,\n",
       " 'maths': 75,\n",
       " 'english': 80}"
      ]
     },
     "execution_count": 15,
     "metadata": {},
     "output_type": "execute_result"
    }
   ],
   "source": [
    "def dict_merge(d1, d2):\n",
    "    d2.update(d1)\n",
    "    return d2\n",
    "\n",
    "dict_merge({'maths': 75, 'english': 80}, {'science': 80, ' hindi': 75, ' G.K.': 90, 'computer': 90})"
   ]
  },
  {
   "cell_type": "markdown",
   "id": "279cd7f1",
   "metadata": {},
   "source": [
    "### Write a Python program to convert key-values list to flat dictionary?"
   ]
  },
  {
   "cell_type": "code",
   "execution_count": 23,
   "id": "0a9fb927",
   "metadata": {},
   "outputs": [
    {
     "data": {
      "text/plain": [
       "{1: 'Mon', 2: 'Tues', 3: 'Wed'}"
      ]
     },
     "execution_count": 23,
     "metadata": {},
     "output_type": "execute_result"
    }
   ],
   "source": [
    "def flatten_dict(d):\n",
    "    result = dict(zip(d['key'],d['value']))\n",
    "    return result\n",
    "\n",
    "flatten_dict({ \"key\": [1, 2, 3], \"value\": ['Mon', 'Tues', 'Wed' ] })"
   ]
  },
  {
   "cell_type": "markdown",
   "id": "6278cd31",
   "metadata": {},
   "source": [
    "### Write a Python program to insert at the beginning in OrderedDict?"
   ]
  },
  {
   "cell_type": "code",
   "execution_count": 55,
   "id": "c872b299",
   "metadata": {},
   "outputs": [
    {
     "data": {
      "text/plain": [
       "OrderedDict([('D', '400'), ('A', '100'), ('B', '200'), ('C', '300')])"
      ]
     },
     "execution_count": 55,
     "metadata": {},
     "output_type": "execute_result"
    }
   ],
   "source": [
    "from collections import OrderedDict as od\n",
    "\n",
    "def insert_beg(odict, pair):\n",
    "    return od(list(pair.items()) + list(odict.items()))\n",
    "    \n",
    "d1 = od([('A', '100'), ('B', '200'), ('C', '300')])\n",
    "insrt = od([(\"D\", '400')])\n",
    "insert_beg(d1, insrt)"
   ]
  },
  {
   "cell_type": "markdown",
   "id": "cfe98b9d",
   "metadata": {},
   "source": [
    "### Write a Python program to check order of character in string using OrderedDict()?"
   ]
  },
  {
   "cell_type": "code",
   "execution_count": 54,
   "id": "209bbb61",
   "metadata": {},
   "outputs": [
    {
     "name": "stdout",
     "output_type": "stream",
     "text": [
      "False\n",
      "True\n"
     ]
    }
   ],
   "source": [
    "from collections import OrderedDict \n",
    "\n",
    "def checkOrder(string, pattern): \n",
    "    dic = OrderedDict.fromkeys(string) \n",
    "    ptr = 0\n",
    "    for key,value in dic.items(): \n",
    "        if (key == pattern[ptr]): \n",
    "            ptr = ptr + 1\n",
    "        if (ptr == (len(pattern))): \n",
    "            return True\n",
    "    return False\n",
    "\n",
    "string = 'All is Well'\n",
    "pattern = 'lwe'\n",
    "print (checkOrder(string,pattern))\n",
    "\n",
    "string2= 'Welcome'\n",
    "pattern2= 'cm'\n",
    "print (checkOrder(string2,pattern2)) "
   ]
  },
  {
   "cell_type": "markdown",
   "id": "f12c0365",
   "metadata": {},
   "source": [
    "### Write a Python program to sort Python Dictionaries by Key or Value?"
   ]
  },
  {
   "cell_type": "code",
   "execution_count": 33,
   "id": "b3796688",
   "metadata": {},
   "outputs": [
    {
     "name": "stdout",
     "output_type": "stream",
     "text": [
      "{1: 'Mon', 2: 'Tues', 3: 'Wed', 4: 'Thurs', 5: 'Fri', 6: 'Sat', 7: 'Sun'}\n",
      "{1: 'Jan', 3: 'Mar', 5: 'May', 6: 'Jun', 8: 'Aug', 10: 'Oct'}\n"
     ]
    }
   ],
   "source": [
    "def sort_dict_keys(d1):\n",
    "    result = {key:val for key, val in sorted(d1.items())}\n",
    "    return result\n",
    "\n",
    "print(sort_dict_keys({1: 'Mon', 3: 'Wed', 2: 'Tues', 6: 'Sat', 7: 'Sun', 5: 'Fri', 4: 'Thurs'}))\n",
    "print(sort_dict_keys({10: 'Oct', 5: 'May', 8: 'Aug', 1: 'Jan', 6: 'Jun', 3: 'Mar'}))"
   ]
  }
 ],
 "metadata": {
  "kernelspec": {
   "display_name": "Python 3",
   "language": "python",
   "name": "python3"
  },
  "language_info": {
   "codemirror_mode": {
    "name": "ipython",
    "version": 3
   },
   "file_extension": ".py",
   "mimetype": "text/x-python",
   "name": "python",
   "nbconvert_exporter": "python",
   "pygments_lexer": "ipython3",
   "version": "3.8.8"
  }
 },
 "nbformat": 4,
 "nbformat_minor": 5
}
