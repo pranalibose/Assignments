{
 "cells": [
  {
   "cell_type": "markdown",
   "id": "d4779280",
   "metadata": {},
   "source": [
    "# Python Practical Advanced Assignment 7"
   ]
  },
  {
   "cell_type": "markdown",
   "id": "c628ba1a",
   "metadata": {},
   "source": [
    "1. Write a function that counts how many concentric layers a rug.\n",
    "\n",
    "Examples\n",
    "\n",
    "count_layers([\n",
    "  \"AAAA\",\n",
    "  \"ABBA\",\n",
    "  \"AAAA\"\n",
    "]) ➞ 2\n",
    "\n",
    "count_layers([\n",
    "  \"AAAAAAAAA\",\n",
    "  \"ABBBBBBBA\",\n",
    "  \"ABBAAABBA\",\n",
    "  \"ABBBBBBBA\",\n",
    "  \"AAAAAAAAA\"\n",
    "]) ➞ 3\n",
    "\n",
    "count_layers([\n",
    "  \"AAAAAAAAAAA\",\n",
    "  \"AABBBBBBBAA\",\n",
    "  \"AABCCCCCBAA\",\n",
    "  \"AABCAAACBAA\",\n",
    "  \"AABCADACBAA\",\n",
    "  \"AABCAAACBAA\",\n",
    "  \"AABCCCCCBAA\",\n",
    "  \"AABBBBBBBAA\",\n",
    "  \"AAAAAAAAAAA\"\n",
    "]) ➞ 5\n"
   ]
  },
  {
   "cell_type": "code",
   "execution_count": 10,
   "id": "a4466fb0",
   "metadata": {},
   "outputs": [
    {
     "name": "stdout",
     "output_type": "stream",
     "text": [
      "2\n",
      "3\n",
      "5\n"
     ]
    }
   ],
   "source": [
    "def count_layers(rug):\n",
    "    return (len(rug)+1)//2\n",
    "    \n",
    "print(count_layers([ \"AAAA\", \"ABBA\", \"AAAA\" ]))\n",
    "print(count_layers([ \"AAAAAAAAA\", \"ABBBBBBBA\", \"ABBAAABBA\", \"ABBBBBBBA\", \"AAAAAAAAA\" ]))\n",
    "print(count_layers([ \"AAAAAAAAAAA\", \"AABBBBBBBAA\", \"AABCCCCCBAA\", \"AABCAAACBAA\", \"AABCADACBAA\", \"AABCAAACBAA\", \"AABCCCCCBAA\", \"AABBBBBBBAA\", \"AAAAAAAAAAA\" ]))"
   ]
  },
  {
   "cell_type": "markdown",
   "id": "85be4d6d",
   "metadata": {},
   "source": [
    "2. There are many different styles of music and many albums exhibit multiple styles. Create a function that takes a list of musical styles from albums and returns how many styles are unique.\n",
    "\n",
    "Examples\n",
    "\n",
    "unique_styles([\n",
    "  \"Dub,Dancehall\",\n",
    "  \"Industrial,Heavy Metal\",\n",
    "  \"Techno,Dubstep\",\n",
    "  \"Synth-pop,Euro-Disco\",\n",
    "  \"Industrial,Techno,Minimal\"\n",
    "]) ➞ 9\n",
    "\n",
    "unique_styles([\n",
    "  \"Soul\",\n",
    "  \"House,Folk\",\n",
    "  \"Trance,Downtempo,Big Beat,House\",\n",
    "  \"Deep House\",\n",
    "  \"Soul\"\n",
    "]) ➞ 7\n"
   ]
  },
  {
   "cell_type": "code",
   "execution_count": 21,
   "id": "7a77d8b2",
   "metadata": {},
   "outputs": [
    {
     "name": "stdout",
     "output_type": "stream",
     "text": [
      "9\n",
      "7\n"
     ]
    }
   ],
   "source": [
    "def unique_styles(l):\n",
    "    final = []\n",
    "    for i in l:\n",
    "        s = i.split(\",\")\n",
    "        final += s\n",
    "    return len(set(final))\n",
    "\n",
    "print(unique_styles([ \"Dub,Dancehall\", \"Industrial,Heavy Metal\", \"Techno,Dubstep\", \"Synth-pop,Euro-Disco\", \"Industrial,Techno,Minimal\" ]))\n",
    "print(unique_styles([ \"Soul\", \"House,Folk\", \"Trance,Downtempo,Big Beat,House\", \"Deep House\", \"Soul\" ]))"
   ]
  },
  {
   "cell_type": "markdown",
   "id": "6e09a169",
   "metadata": {},
   "source": [
    "3. Create a function that finds a target number in a list of prime numbers. Implement a binary search algorithm in your function. The target number will be from 2 through 97. If the target is prime then return \"yes\" else return \"no\".\n",
    "\n",
    "Examples\n",
    "\n",
    "primes = [2, 3, 5, 7, 11, 13, 17, 19, 23, 29, 31, 37, 41, 43, 47, 53, 59, 61, 67, 71, 73, 79, 83, 89, 97]\n",
    "\n",
    "\n",
    "is_prime(primes, 3) ➞ \"yes\"\n",
    "\n",
    "is_prime(primes, 4) ➞ \"no\"\n",
    "\n",
    "is_prime(primes, 67) ➞ \"yes\"\n",
    "\n",
    "is_prime(primes, 36) ➞ \"no\"\n"
   ]
  },
  {
   "cell_type": "code",
   "execution_count": 26,
   "id": "00e22cdc",
   "metadata": {},
   "outputs": [
    {
     "name": "stdout",
     "output_type": "stream",
     "text": [
      "yes\n",
      "no\n",
      "yes\n",
      "no\n"
     ]
    }
   ],
   "source": [
    "primes = [2, 3, 5, 7, 11, 13, 17, 19, 23, 29, 31, 37, 41, 43, 47, 53, 59, 61, 67, 71, 73, 79, 83, 89, 97]\n",
    "\n",
    "def is_prime(prime,n):\n",
    "    # Repeat until the pointers low and high meet each other\n",
    "    low = 0\n",
    "    high = len(prime)-1\n",
    "    while low <= high:\n",
    "\n",
    "        mid = low + (high - low)//2\n",
    "\n",
    "        if prime[mid] == n:\n",
    "            return \"yes\"\n",
    "\n",
    "        elif prime[mid] < n:\n",
    "            low = mid + 1\n",
    "\n",
    "        else:\n",
    "            high = mid - 1\n",
    "\n",
    "    return \"no\"\n",
    "\n",
    "print(is_prime(primes, 3))\n",
    "print(is_prime(primes, 4))\n",
    "print(is_prime(primes, 67))\n",
    "print(is_prime(primes, 36))"
   ]
  },
  {
   "cell_type": "markdown",
   "id": "6c6950e0",
   "metadata": {},
   "source": [
    "4. Create a function that takes in n, a, b and returns the number of positive values raised to the nth power that lie in the range [a, b], inclusive.\n",
    "\n",
    "Examples\n",
    "\n",
    "power_ranger(2, 49, 65) ➞ 2\n",
    "\n",
    " 2 squares (n^2) lie between 49 and 65, 49 (7^2) and 64 (8^2)\n",
    "\n",
    "power_ranger(3, 1, 27) ➞ 3\n",
    "\n",
    " 3 cubes (n^3) lie between 1 and 27, 1 (1^3), 8 (2^3) and 27 (3^3)\n",
    "\n",
    "power_ranger(10, 1, 5) ➞ 1\n",
    "\n",
    " 1 value raised to the 10th power lies between 1 and 5, 1 (1^10)\n",
    "\n",
    "power_ranger(5, 31, 33) ➞ 1\n",
    "\n",
    "power_ranger(4, 250, 1300) ➞ 3\n"
   ]
  },
  {
   "cell_type": "code",
   "execution_count": 18,
   "id": "ccdc0af5",
   "metadata": {},
   "outputs": [
    {
     "name": "stdout",
     "output_type": "stream",
     "text": [
      "2\n",
      "3\n",
      "1\n",
      "3\n"
     ]
    }
   ],
   "source": [
    "def power_ranger(power, start, end):\n",
    "    count = 0\n",
    "    for i in range(start, end+1):\n",
    "        num = int(round(i**(1. / power)))\n",
    "        if num** power == i:\n",
    "            count += 1\n",
    "    return count\n",
    "\n",
    "print(power_ranger(2, 49, 65))\n",
    "print(power_ranger(3, 1, 27))\n",
    "print(power_ranger(10, 1, 5))\n",
    "print(power_ranger(4, 250, 1300))"
   ]
  },
  {
   "cell_type": "markdown",
   "id": "eec5f24f",
   "metadata": {},
   "source": [
    "5. Given a number, return the difference between the maximum and minimum numbers that can be formed when the digits are rearranged.\n",
    "\n",
    "Examples\n",
    "\n",
    "rearranged_difference(972882) ➞ 760833\n",
    "\n",
    "988722 - 227889 = 760833\n",
    "\n",
    "rearranged_difference(3320707) ➞ 7709823\n",
    "\n",
    "7733200 - 23377 = 7709823\n",
    "\n",
    "rearranged_difference(90010) ➞ 90981\n",
    "\n",
    "91000 - 19 = 90981\n"
   ]
  },
  {
   "cell_type": "code",
   "execution_count": 38,
   "id": "c5383758",
   "metadata": {},
   "outputs": [
    {
     "name": "stdout",
     "output_type": "stream",
     "text": [
      "7709823\n",
      "760833\n",
      "90981\n"
     ]
    }
   ],
   "source": [
    "def rearranged_difference(num):\n",
    "    s = list(str(num))           # convert into a list\n",
    "    min = \"\"\n",
    "    s.sort()                     # sort it\n",
    "    min = min.join(s)            # join to form the minimum number\n",
    "    max = min[::-1]              # reverse the string to get the maximum\n",
    "    return int(max) - int(min)\n",
    "\n",
    "print(rearranged_difference(3320707))\n",
    "print(rearranged_difference(972882))\n",
    "print(rearranged_difference(90010))"
   ]
  }
 ],
 "metadata": {
  "kernelspec": {
   "display_name": "Python 3",
   "language": "python",
   "name": "python3"
  },
  "language_info": {
   "codemirror_mode": {
    "name": "ipython",
    "version": 3
   },
   "file_extension": ".py",
   "mimetype": "text/x-python",
   "name": "python",
   "nbconvert_exporter": "python",
   "pygments_lexer": "ipython3",
   "version": "3.8.8"
  }
 },
 "nbformat": 4,
 "nbformat_minor": 5
}
