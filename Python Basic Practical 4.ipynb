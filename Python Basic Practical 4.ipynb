{
 "cells": [
  {
   "cell_type": "markdown",
   "id": "5fbc45ff",
   "metadata": {},
   "source": [
    "1.\tWrite a Python Program to Find the Factorial of a Number?"
   ]
  },
  {
   "cell_type": "code",
   "execution_count": 5,
   "id": "9b409738",
   "metadata": {},
   "outputs": [
    {
     "name": "stdout",
     "output_type": "stream",
     "text": [
      "5040\n"
     ]
    }
   ],
   "source": [
    "def factorial(num):\n",
    "    fact = 1\n",
    "    for i in range(1,num+1):\n",
    "        fact = fact*i\n",
    "    return fact\n",
    "\n",
    "fact = factorial(7)\n",
    "print(fact)"
   ]
  },
  {
   "cell_type": "markdown",
   "id": "48bc0859",
   "metadata": {},
   "source": [
    "Write a Python Program to Display the multiplication Table?"
   ]
  },
  {
   "cell_type": "code",
   "execution_count": 10,
   "id": "e6268a65",
   "metadata": {},
   "outputs": [
    {
     "name": "stdout",
     "output_type": "stream",
     "text": [
      "1 x 8 = 8\n",
      "2 x 8 = 16\n",
      "3 x 8 = 24\n",
      "4 x 8 = 32\n",
      "5 x 8 = 40\n",
      "6 x 8 = 48\n",
      "7 x 8 = 56\n",
      "8 x 8 = 64\n",
      "9 x 8 = 72\n",
      "10 x 8 = 80\n",
      "11 x 8 = 88\n",
      "12 x 8 = 96\n",
      "13 x 8 = 104\n",
      "14 x 8 = 112\n",
      "15 x 8 = 120\n"
     ]
    }
   ],
   "source": [
    "def multiplication_table(num):\n",
    "    for i in range(1,16):\n",
    "        print(str(i) + \" x \" + str(num) + \" = \" + str(num*i))\n",
    "    return None\n",
    "\n",
    "multiplication_table(8)"
   ]
  },
  {
   "cell_type": "markdown",
   "id": "7e04f50a",
   "metadata": {},
   "source": [
    "Write a Python Program to Print the Fibonacci sequence?"
   ]
  },
  {
   "cell_type": "code",
   "execution_count": 14,
   "id": "8bb875a3",
   "metadata": {},
   "outputs": [
    {
     "name": "stdout",
     "output_type": "stream",
     "text": [
      "[1, 1, 2, 3, 5, 8, 13, 21, 34, 55, 89, 144]\n"
     ]
    }
   ],
   "source": [
    "def fib(num):\n",
    "    fib = [1,1,2]\n",
    "    a=1\n",
    "    b=2\n",
    "    for i in range(1,num):\n",
    "        a,b = b,a+b\n",
    "        fib.append(b)\n",
    "    return fib\n",
    "\n",
    "fib_list = fib(10)\n",
    "print(fib_list)"
   ]
  },
  {
   "cell_type": "markdown",
   "id": "8783af52",
   "metadata": {},
   "source": [
    "Write a Python Program to Check Armstrong Number?"
   ]
  },
  {
   "cell_type": "code",
   "execution_count": 20,
   "id": "a181db97",
   "metadata": {},
   "outputs": [
    {
     "name": "stdout",
     "output_type": "stream",
     "text": [
      "True\n",
      "False\n"
     ]
    }
   ],
   "source": [
    "def order(num):\n",
    "    count = 0\n",
    "    while (num!=0):\n",
    "        count +=1\n",
    "        num = num//10\n",
    "    return count\n",
    "\n",
    "def isArmstrong(x):\n",
    "    n = order(x)\n",
    "    temp = x\n",
    "    sum1 = 0\n",
    "      \n",
    "    while (temp != 0):\n",
    "        r = temp % 10\n",
    "        sum1 = sum1 + pow(r, n)\n",
    "        temp = temp // 10\n",
    "    return (sum1 == x)\n",
    "\n",
    "x = 153\n",
    "print(isArmstrong(x))\n",
    "  \n",
    "x = 1253\n",
    "print(isArmstrong(x))"
   ]
  },
  {
   "cell_type": "markdown",
   "id": "02dac59d",
   "metadata": {},
   "source": [
    "Write a Python Program to Find Armstrong Number in an Interval?"
   ]
  },
  {
   "cell_type": "code",
   "execution_count": 24,
   "id": "f128a54c",
   "metadata": {},
   "outputs": [
    {
     "name": "stdout",
     "output_type": "stream",
     "text": [
      "[1, 2, 3, 4, 5, 6, 7, 8, 9, 153, 370, 371, 407, 1634, 8208, 9474]\n"
     ]
    }
   ],
   "source": [
    "def armstrong_list(start, end):\n",
    "    arm_list = []\n",
    "    for i in range(start,end+1):\n",
    "        if isArmstrong(i) == True:\n",
    "            arm_list.append(i)\n",
    "    return arm_list\n",
    "\n",
    "arms = armstrong_list(1,10000)\n",
    "print(arms)"
   ]
  },
  {
   "cell_type": "markdown",
   "id": "96c4faa7",
   "metadata": {},
   "source": [
    "Write a Python Program to Find the Sum of Natural Numbers?"
   ]
  },
  {
   "cell_type": "code",
   "execution_count": 25,
   "id": "7a333ece",
   "metadata": {},
   "outputs": [
    {
     "name": "stdout",
     "output_type": "stream",
     "text": [
      "5050\n"
     ]
    }
   ],
   "source": [
    "def addition(n):\n",
    "    s = 0\n",
    "    for i in range(1, n+1):\n",
    "        s += i\n",
    "    return s\n",
    "\n",
    "summation = addition(100)\n",
    "print(summation)"
   ]
  }
 ],
 "metadata": {
  "kernelspec": {
   "display_name": "Python 3",
   "language": "python",
   "name": "python3"
  },
  "language_info": {
   "codemirror_mode": {
    "name": "ipython",
    "version": 3
   },
   "file_extension": ".py",
   "mimetype": "text/x-python",
   "name": "python",
   "nbconvert_exporter": "python",
   "pygments_lexer": "ipython3",
   "version": "3.8.8"
  }
 },
 "nbformat": 4,
 "nbformat_minor": 5
}
