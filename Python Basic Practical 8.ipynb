{
 "cells": [
  {
   "cell_type": "markdown",
   "id": "b6e57d61",
   "metadata": {},
   "source": [
    "### Write a Python Program to Add Two Matrices? "
   ]
  },
  {
   "cell_type": "code",
   "execution_count": 23,
   "id": "00962f56",
   "metadata": {},
   "outputs": [
    {
     "name": "stdout",
     "output_type": "stream",
     "text": [
      "[5, 9, 13][10, 6, 9][5, 23, 18]"
     ]
    }
   ],
   "source": [
    "def add_mat(a,b):\n",
    "    return [[a[i][j] + b[i][j] for j in range(len(b))] for i in range(len(a))]\n",
    "\n",
    "X = [[1,0,3],\n",
    "    [4 ,5,6],\n",
    "    [3 ,18,9]]\n",
    "\n",
    "Y = [[4,9,10],\n",
    "    [6,1,3],\n",
    "    [2,5,9]]\n",
    "\n",
    "result = add_mat(X,Y)\n",
    "for r in result:\n",
    "    print(r, end=\"\")"
   ]
  },
  {
   "cell_type": "markdown",
   "id": "da826940",
   "metadata": {},
   "source": [
    "### Write a Python Program to Multiply Two Matrices? "
   ]
  },
  {
   "cell_type": "code",
   "execution_count": 24,
   "id": "f96131ab",
   "metadata": {},
   "outputs": [
    {
     "name": "stdout",
     "output_type": "stream",
     "text": [
      "[4, 0, 30][24, 5, 18][6, 90, 81]"
     ]
    }
   ],
   "source": [
    "def mul_mat(a,b):\n",
    "    return [[a[i][j] * b[i][j] for j in range(len(b))] for i in range(len(a))]\n",
    "\n",
    "X = [[1,0,3],\n",
    "    [4 ,5,6],\n",
    "    [3 ,18,9]]\n",
    "\n",
    "Y = [[4,9,10],\n",
    "    [6,1,3],\n",
    "    [2,5,9]]\n",
    "\n",
    "result = mul_mat(X,Y)\n",
    "for r in result:\n",
    "    print(r, end=\"\")"
   ]
  },
  {
   "cell_type": "markdown",
   "id": "c451ba30",
   "metadata": {},
   "source": [
    "### Write a Python Program to Transpose a Matrix? "
   ]
  },
  {
   "cell_type": "code",
   "execution_count": 19,
   "id": "adbf5684",
   "metadata": {},
   "outputs": [
    {
     "name": "stdout",
     "output_type": "stream",
     "text": [
      "[12, 4, 3][7, 5, 8]"
     ]
    }
   ],
   "source": [
    "def trans_mat(a):\n",
    "    return [[a[j][i] for j in range(len(a))] for i in range(len(a[0]))]\n",
    "\n",
    "X = [[12,7],\n",
    "    [4 ,5],\n",
    "    [3 ,8]]\n",
    "\n",
    "result = trans_mat(X)\n",
    "for r in result:\n",
    "    print(r, end=\"\")"
   ]
  },
  {
   "cell_type": "markdown",
   "id": "07841371",
   "metadata": {},
   "source": [
    "### Write a Python Program to Sort Words in Alphabetic Order? "
   ]
  },
  {
   "cell_type": "code",
   "execution_count": 11,
   "id": "9404c1ab",
   "metadata": {},
   "outputs": [
    {
     "data": {
      "text/plain": [
       "'a ascending in is order sentence sort this words'"
      ]
     },
     "execution_count": 11,
     "metadata": {},
     "output_type": "execute_result"
    }
   ],
   "source": [
    "def sort_words(string):\n",
    "    dictionary = {}\n",
    "    result = ' '\n",
    "    for i in string.split(' '):\n",
    "        dictionary[i.lower()] = ord(i[0:1].lower())\n",
    "    return result.join(sorted(dictionary.keys()))\n",
    "        \n",
    "string = \"This is a sentence Sort Words in ascending order\"\n",
    "sort_words(string)"
   ]
  },
  {
   "cell_type": "markdown",
   "id": "3ec71db0",
   "metadata": {},
   "source": [
    "### Write a Python Program to Remove Punctuation From a String?"
   ]
  },
  {
   "cell_type": "code",
   "execution_count": 6,
   "id": "bc989f42",
   "metadata": {},
   "outputs": [
    {
     "data": {
      "text/plain": [
       "'My name is Mary I am from Indias most btiful city'"
      ]
     },
     "execution_count": 6,
     "metadata": {},
     "output_type": "execute_result"
    }
   ],
   "source": [
    "def remove_punc(string):\n",
    "    result = ''\n",
    "    for i in string:\n",
    "        if i.isalnum() or i == ' ':\n",
    "            result = result + i\n",
    "    return result\n",
    "        \n",
    "string = \"My name is Mary. I, am from India's most b'tiful city!\"\n",
    "remove_punc(string)"
   ]
  }
 ],
 "metadata": {
  "kernelspec": {
   "display_name": "Python 3",
   "language": "python",
   "name": "python3"
  },
  "language_info": {
   "codemirror_mode": {
    "name": "ipython",
    "version": 3
   },
   "file_extension": ".py",
   "mimetype": "text/x-python",
   "name": "python",
   "nbconvert_exporter": "python",
   "pygments_lexer": "ipython3",
   "version": "3.8.8"
  }
 },
 "nbformat": 4,
 "nbformat_minor": 5
}
