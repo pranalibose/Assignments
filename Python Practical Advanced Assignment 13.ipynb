{
 "cells": [
  {
   "cell_type": "markdown",
   "id": "ae92d9e4",
   "metadata": {},
   "source": [
    "# Python Practical Advanced Assignment 13"
   ]
  },
  {
   "cell_type": "markdown",
   "id": "481271af",
   "metadata": {},
   "source": [
    "1. Create a function that takes a list and string. The function should remove the letters in the string from the list, and return the list.\n",
    "\n",
    "Examples\n",
    "\n",
    "remove_letters([\"s\", \"t\", \"r\", \"i\", \"n\", \"g\", \"w\"], \"string\") ➞ [\"w\"]\n",
    "\n",
    "remove_letters([\"b\", \"b\", \"l\", \"l\", \"g\", \"n\", \"o\", \"a\", \"w\"], \"balloon\") ➞ [\"b\", \"g\", \"w\"]\n",
    "\n",
    "remove_letters([\"d\", \"b\", \"t\", \"e\", \"a\", \"i\"], \"edabit\") ➞ []\n"
   ]
  },
  {
   "cell_type": "code",
   "execution_count": 1,
   "id": "7bf6b6cd",
   "metadata": {},
   "outputs": [
    {
     "name": "stdout",
     "output_type": "stream",
     "text": [
      "['w']\n",
      "['b', 'g', 'w']\n",
      "[]\n"
     ]
    }
   ],
   "source": [
    "def remove_letters(l, s):\n",
    "    for i in s:\n",
    "        if i in l:\n",
    "            l.remove(i)\n",
    "    return l\n",
    "\n",
    "print(remove_letters([\"s\", \"t\", \"r\", \"i\", \"n\", \"g\", \"w\"], \"string\"))\n",
    "print(remove_letters([\"b\", \"b\", \"l\", \"l\", \"g\", \"n\", \"o\", \"a\", \"w\"], \"balloon\"))\n",
    "print(remove_letters([\"d\", \"b\", \"t\", \"e\", \"a\", \"i\"], \"edabit\"))"
   ]
  },
  {
   "cell_type": "markdown",
   "id": "3e04b1ec",
   "metadata": {},
   "source": [
    "2. A block sequence in three dimensions. We can write a formula for this one:\n",
    "\n",
    "Create a function that takes a number (step) as an argument and returns the amount of blocks in that step.\n",
    "\n",
    "Examples\n",
    "\n",
    "blocks(1) ➞ 5\n",
    "\n",
    "blocks(5) ➞ 39\n",
    "\n",
    "blocks(2) ➞ 12\n"
   ]
  },
  {
   "cell_type": "code",
   "execution_count": 2,
   "id": "19fce706",
   "metadata": {},
   "outputs": [
    {
     "name": "stdout",
     "output_type": "stream",
     "text": [
      "5\n",
      "12\n",
      "20\n",
      "29\n",
      "39\n"
     ]
    }
   ],
   "source": [
    "def fact_sum(n):\n",
    "    sum1 = 0\n",
    "    for i in range(n+1,1,-1):\n",
    "        sum1 += i\n",
    "    return int(sum1)\n",
    "\n",
    "def buildings(b):\n",
    "    return int(b-1)\n",
    "\n",
    "def floor(f):\n",
    "    return int(3*f)\n",
    "\n",
    "def blocks(step):\n",
    "    return fact_sum(step) + buildings(step) + floor(step)\n",
    "\n",
    "print(blocks(1))\n",
    "print(blocks(2))\n",
    "print(blocks(3))\n",
    "print(blocks(4))\n",
    "print(blocks(5))"
   ]
  },
  {
   "cell_type": "markdown",
   "id": "e635f831",
   "metadata": {},
   "source": [
    "3. Create a function that subtracts one positive integer from another, without using any arithmetic operators such as -, %, /, +, etc.\n",
    "\n",
    "Examples\n",
    "\n",
    "my_sub(5, 9) ➞ 4\n",
    "\n",
    "my_sub(10, 30) ➞ 20\n",
    "\n",
    "my_sub(0, 0) ➞ 0\n"
   ]
  },
  {
   "cell_type": "code",
   "execution_count": 19,
   "id": "2e2feedd",
   "metadata": {},
   "outputs": [
    {
     "name": "stdout",
     "output_type": "stream",
     "text": [
      "20\n",
      "4\n",
      "0\n"
     ]
    }
   ],
   "source": [
    "def my_sub(x, y):\n",
    "    if y>x:\n",
    "        x, y = y, x\n",
    "    if (y == 0):\n",
    "        return x\n",
    "    return my_sub(x ^ y, (~x & y) << 1)\n",
    " \n",
    "print(my_sub(10, 30))\n",
    "print(my_sub(5, 9))\n",
    "print(my_sub(0, 0))"
   ]
  },
  {
   "cell_type": "markdown",
   "id": "eb30dbf9",
   "metadata": {},
   "source": [
    "4. Create a function that takes a string containing money in dollars and pounds sterling (seperated by comma) and returns the sum of dollar bills only, as an integer.\n",
    "\n",
    "For the input string:\n",
    "\n",
    "   - Each amount is prefixed by the currency symbol: $ for dollars and £ for pounds.\n",
    "   - Thousands are represented by the suffix k.\n",
    "\n",
    "i.e. $4k = $4,000 and £40k = £40,000\n",
    "\n",
    "Examples\n",
    "\n",
    "add_bill(\"d20,p40,p60,d50\") ➞ 20 + 50 = 70\n",
    "\n",
    "add_bill(\"p30,d20,p60,d150,p360\") ➞ 20  + 150 = 170\n",
    "\n",
    "add_bill(\"p30,d2k,p60,d200,p360\") ➞ 2 * 1000 + 200 = 2200\n"
   ]
  },
  {
   "cell_type": "code",
   "execution_count": 28,
   "id": "1871e430",
   "metadata": {},
   "outputs": [
    {
     "name": "stdout",
     "output_type": "stream",
     "text": [
      "70\n",
      "170\n",
      "2200\n"
     ]
    }
   ],
   "source": [
    "def add_bill(string):\n",
    "    add = 0\n",
    "    l = string.split(',')\n",
    "    for i in l:\n",
    "        if i[0] == 'd':\n",
    "            if 'k' in i:\n",
    "                i = i.replace('k', '000') \n",
    "            add = int(add) + int(i[1:])\n",
    "    return add\n",
    "        \n",
    "print(add_bill(\"d20,p40,p60,d50\"))\n",
    "print(add_bill(\"p30,d20,p60,d150,p360\"))\n",
    "print(add_bill(\"p30,d2k,p60,d200,p360\"))"
   ]
  },
  {
   "cell_type": "markdown",
   "id": "fbe0ae1e",
   "metadata": {},
   "source": [
    "5. Create a function that flips a horizontal list into a vertical list, and a vertical list into a horizontal list.\n",
    "\n",
    "In other words, take an 1 x n list (1 row + n columns) and flip it into a n x 1 list (n rows and 1 column), and vice versa.\n",
    "\n",
    "Examples\n",
    "\n",
    "flip_list([1, 2, 3, 4]) ➞ [[1], [2], [3], [4]]\n",
    "Take a horizontal list and flip it vertical.\n",
    "\n",
    "flip_list([[5], [6], [9]]) ➞ [5, 6, 9]\n",
    "Take a vertical list and flip it horizontal.\n",
    "\n",
    "flip_list([]) ➞ []\n"
   ]
  },
  {
   "cell_type": "code",
   "execution_count": 5,
   "id": "6a64eea1",
   "metadata": {},
   "outputs": [
    {
     "name": "stdout",
     "output_type": "stream",
     "text": [
      "[[1], [2], [3], [4]]\n",
      "if\n",
      "[5, 6, 9]\n"
     ]
    }
   ],
   "source": [
    "def flip_list(list_flip):\n",
    "    if isinstance(list_flip[0],list):               # if first element is a list type then it is a vertical list\n",
    "        return [x[0] for x in list_flip]\n",
    "    return [[x] for x in list_flip]\n",
    "\n",
    "print(flip_list([1, 2, 3, 4]))\n",
    "print(flip_list([[5], [6], [9]]))"
   ]
  }
 ],
 "metadata": {
  "kernelspec": {
   "display_name": "Python 3",
   "language": "python",
   "name": "python3"
  },
  "language_info": {
   "codemirror_mode": {
    "name": "ipython",
    "version": 3
   },
   "file_extension": ".py",
   "mimetype": "text/x-python",
   "name": "python",
   "nbconvert_exporter": "python",
   "pygments_lexer": "ipython3",
   "version": "3.8.8"
  }
 },
 "nbformat": 4,
 "nbformat_minor": 5
}
