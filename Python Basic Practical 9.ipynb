{
 "cells": [
  {
   "cell_type": "markdown",
   "id": "b1e95474",
   "metadata": {},
   "source": [
    "### Write a Python program to check if the given number is a Disarium Number? "
   ]
  },
  {
   "cell_type": "code",
   "execution_count": 1,
   "id": "af5684bb",
   "metadata": {},
   "outputs": [
    {
     "data": {
      "text/plain": [
       "True"
      ]
     },
     "execution_count": 1,
     "metadata": {},
     "output_type": "execute_result"
    }
   ],
   "source": [
    "import math\n",
    "def check_dis(num):\n",
    "    index = 1\n",
    "    result = 0\n",
    "    for i in str(num):\n",
    "        result = result + math.pow(int(i),index)\n",
    "        index = index+1\n",
    "    if result == num:\n",
    "        return True\n",
    "    return False\n",
    "        \n",
    "check_dis(175)"
   ]
  },
  {
   "cell_type": "markdown",
   "id": "fa2842ac",
   "metadata": {},
   "source": [
    "### Write a Python program to print all disarium numbers between 1 to 100?"
   ]
  },
  {
   "cell_type": "code",
   "execution_count": 2,
   "id": "c38ad23e",
   "metadata": {},
   "outputs": [
    {
     "name": "stdout",
     "output_type": "stream",
     "text": [
      "1\n",
      "2\n",
      "3\n",
      "4\n",
      "5\n",
      "6\n",
      "7\n",
      "8\n",
      "9\n",
      "89\n"
     ]
    }
   ],
   "source": [
    "# Using the above function\n",
    "for i in range(1,101):\n",
    "    if check_dis(i):\n",
    "        print(str(i))"
   ]
  },
  {
   "cell_type": "markdown",
   "id": "30d5db43",
   "metadata": {},
   "source": [
    "### Write a Python program to check if the given number is Happy Number?"
   ]
  },
  {
   "cell_type": "code",
   "execution_count": 16,
   "id": "5873aff8",
   "metadata": {},
   "outputs": [
    {
     "data": {
      "text/plain": [
       "True"
      ]
     },
     "execution_count": 16,
     "metadata": {},
     "output_type": "execute_result"
    }
   ],
   "source": [
    "def sum_square(num):\n",
    "    l = [int(i)**2 for i in str(num)]\n",
    "    return sum(l)\n",
    "        \n",
    "def check_happy(n):\n",
    "    if len(str(n))==1:\n",
    "        n = \"0\"+str(n)\n",
    "    while len(str(n))>1:\n",
    "        n = sum_square(n)\n",
    "    return True if n==1 else False\n",
    "        \n",
    "check_happy(7)"
   ]
  },
  {
   "cell_type": "markdown",
   "id": "6b2ce6fc",
   "metadata": {},
   "source": [
    "### Write a Python program to print all happy numbers between 1 and 100?"
   ]
  },
  {
   "cell_type": "code",
   "execution_count": 17,
   "id": "1bf78691",
   "metadata": {},
   "outputs": [
    {
     "name": "stdout",
     "output_type": "stream",
     "text": [
      "1\n",
      "7\n",
      "10\n",
      "13\n",
      "19\n",
      "23\n",
      "28\n",
      "31\n",
      "32\n",
      "44\n",
      "49\n",
      "68\n",
      "70\n",
      "79\n",
      "82\n",
      "86\n",
      "91\n",
      "94\n",
      "97\n",
      "100\n"
     ]
    }
   ],
   "source": [
    "# Using the above function\n",
    "for i in range(1,101):\n",
    "    if check_happy(i):\n",
    "        print(str(i))"
   ]
  },
  {
   "cell_type": "markdown",
   "id": "ec9459e7",
   "metadata": {},
   "source": [
    "### Write a Python program to determine whether the given number is a Harshad Number?"
   ]
  },
  {
   "cell_type": "code",
   "execution_count": 21,
   "id": "6e31ea8e",
   "metadata": {},
   "outputs": [
    {
     "data": {
      "text/plain": [
       "True"
      ]
     },
     "execution_count": 21,
     "metadata": {},
     "output_type": "execute_result"
    }
   ],
   "source": [
    "def check_harshad(n):\n",
    "    num = n\n",
    "    s = 0\n",
    "    while n>0:\n",
    "        s = s + n%10\n",
    "        n = n//10\n",
    "    return True if num%s==0 else False\n",
    "\n",
    "check_harshad(18)"
   ]
  },
  {
   "cell_type": "markdown",
   "id": "37bb9bfe",
   "metadata": {},
   "source": [
    "### Write a Python program to print all pronic numbers between 1 and 100?"
   ]
  },
  {
   "cell_type": "code",
   "execution_count": 26,
   "id": "062d71b0",
   "metadata": {},
   "outputs": [
    {
     "name": "stdout",
     "output_type": "stream",
     "text": [
      "2\n",
      "6\n",
      "12\n",
      "20\n",
      "30\n",
      "42\n",
      "56\n",
      "72\n",
      "90\n"
     ]
    }
   ],
   "source": [
    "def check_pronic(num):\n",
    "    for i in range(1,(num//2)+1):\n",
    "        if num==(i*(i+1)):\n",
    "            return True\n",
    "    return False\n",
    "\n",
    "for i in range(1,101):\n",
    "    if check_pronic(i):\n",
    "        print(str(i))"
   ]
  }
 ],
 "metadata": {
  "kernelspec": {
   "display_name": "Python 3",
   "language": "python",
   "name": "python3"
  },
  "language_info": {
   "codemirror_mode": {
    "name": "ipython",
    "version": 3
   },
   "file_extension": ".py",
   "mimetype": "text/x-python",
   "name": "python",
   "nbconvert_exporter": "python",
   "pygments_lexer": "ipython3",
   "version": "3.8.8"
  }
 },
 "nbformat": 4,
 "nbformat_minor": 5
}
