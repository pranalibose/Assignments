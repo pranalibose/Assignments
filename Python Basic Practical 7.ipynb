{
 "cells": [
  {
   "cell_type": "markdown",
   "id": "fd7a8119",
   "metadata": {},
   "source": [
    "1. Write a Python Program to find sum of array?"
   ]
  },
  {
   "cell_type": "code",
   "execution_count": 14,
   "id": "e820c285",
   "metadata": {},
   "outputs": [
    {
     "data": {
      "text/plain": [
       "233"
      ]
     },
     "execution_count": 14,
     "metadata": {},
     "output_type": "execute_result"
    }
   ],
   "source": [
    "def add(arr):\n",
    "    return sum(arr)\n",
    "\n",
    "arr1 = [23,35,11,65,99]\n",
    "add(arr1)"
   ]
  },
  {
   "cell_type": "markdown",
   "id": "0a93754d",
   "metadata": {},
   "source": [
    "2. Write a Python Program to find largest element in an array?"
   ]
  },
  {
   "cell_type": "code",
   "execution_count": 16,
   "id": "7b5d4fa5",
   "metadata": {},
   "outputs": [
    {
     "data": {
      "text/plain": [
       "99"
      ]
     },
     "execution_count": 16,
     "metadata": {},
     "output_type": "execute_result"
    }
   ],
   "source": [
    "def maximum(arr):\n",
    "    return max(arr)\n",
    "\n",
    "arr1 = [23,35,11,65,99]\n",
    "maximum(arr1)"
   ]
  },
  {
   "cell_type": "markdown",
   "id": "45a5f073",
   "metadata": {},
   "source": [
    "3. Write a Python Program for array rotation?"
   ]
  },
  {
   "cell_type": "code",
   "execution_count": 19,
   "id": "36ff51c4",
   "metadata": {},
   "outputs": [
    {
     "data": {
      "text/plain": [
       "[35, 11, 65, 99, 23]"
      ]
     },
     "execution_count": 19,
     "metadata": {},
     "output_type": "execute_result"
    }
   ],
   "source": [
    "def arr_rotate(arr):\n",
    "    first = arr[0]\n",
    "    for i in range(0,len(arr)-1):\n",
    "        arr[i] = arr[i+1]\n",
    "    arr[-1] = first\n",
    "    return arr\n",
    "\n",
    "arr1 = [23,35,11,65,99]\n",
    "arr_rotate(arr1)"
   ]
  },
  {
   "cell_type": "markdown",
   "id": "e05bb767",
   "metadata": {},
   "source": [
    "4. Write a Python Program to Split the array and add the first part to the end?"
   ]
  },
  {
   "cell_type": "code",
   "execution_count": 2,
   "id": "e30a1016",
   "metadata": {},
   "outputs": [
    {
     "data": {
      "text/plain": [
       "[40, 9, 10, 100, 1, 3, 18]"
      ]
     },
     "execution_count": 2,
     "metadata": {},
     "output_type": "execute_result"
    }
   ],
   "source": [
    "def split_arr(arr, k):\n",
    "    return (arr[k:] + arr[:k])\n",
    "\n",
    "a = [3,18,40,9,10,100,1]\n",
    "split_arr(a,2)"
   ]
  },
  {
   "cell_type": "markdown",
   "id": "dd7808a4",
   "metadata": {},
   "source": [
    "5. Write a Python Program to check if given array is Monotonic?"
   ]
  },
  {
   "cell_type": "code",
   "execution_count": 4,
   "id": "a1c9485f",
   "metadata": {},
   "outputs": [
    {
     "name": "stdout",
     "output_type": "stream",
     "text": [
      "True\n"
     ]
    }
   ],
   "source": [
    "def isMonotonic(A):\n",
    "  \n",
    "    return (all(A[i] <= A[i + 1] for i in range(len(A) - 1)) or\n",
    "            all(A[i] >= A[i + 1] for i in range(len(A) - 1)))\n",
    "  \n",
    "A = [6, 5, 4, 4]\n",
    "print(isMonotonic(A))"
   ]
  },
  {
   "cell_type": "code",
   "execution_count": null,
   "id": "2038e0d7",
   "metadata": {},
   "outputs": [],
   "source": []
  }
 ],
 "metadata": {
  "kernelspec": {
   "display_name": "Python 3",
   "language": "python",
   "name": "python3"
  },
  "language_info": {
   "codemirror_mode": {
    "name": "ipython",
    "version": 3
   },
   "file_extension": ".py",
   "mimetype": "text/x-python",
   "name": "python",
   "nbconvert_exporter": "python",
   "pygments_lexer": "ipython3",
   "version": "3.8.8"
  }
 },
 "nbformat": 4,
 "nbformat_minor": 5
}
