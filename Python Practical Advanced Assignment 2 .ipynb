{
 "cells": [
  {
   "cell_type": "markdown",
   "id": "cbf6fefa",
   "metadata": {},
   "source": [
    "# Python Practical Advanced Assignment 2 "
   ]
  },
  {
   "cell_type": "raw",
   "id": "b27d6dc2",
   "metadata": {},
   "source": [
    "1. Write a function that takes a positive integer num and calculates how many dots exist in a pentagonal shape around the center dot on the Nth iteration.\n",
    "In the image below you can see the first iteration is only a single dot. On the second, there are 6 dots. On the third, there are 16 dots, and on the fourth there are 31 dots.\n",
    "Return the number of dots that exist in the whole pentagon on the Nth iteration.\n",
    "\n",
    "Examples\n",
    "pentagonal(1) ➞ 1\n",
    "pentagonal(2) ➞ 6\n",
    "pentagonal(3) ➞ 16\n",
    "pentagonal(8) ➞ 141"
   ]
  },
  {
   "cell_type": "code",
   "execution_count": 3,
   "id": "7d2bba10",
   "metadata": {},
   "outputs": [
    {
     "name": "stdout",
     "output_type": "stream",
     "text": [
      "1\n",
      "6\n",
      "16\n",
      "141\n"
     ]
    }
   ],
   "source": [
    "def pentagonal(num):\n",
    "    s=1\n",
    "    for i in range(0,num):\n",
    "        s += (5*i)\n",
    "    return s\n",
    "\n",
    "print(pentagonal(1))\n",
    "print(pentagonal(2))\n",
    "print(pentagonal(3))\n",
    "print(pentagonal(8))"
   ]
  },
  {
   "cell_type": "raw",
   "id": "255c2598",
   "metadata": {},
   "source": [
    "2.  Make a function that encrypts a given input with these steps:\n",
    "Input: \"apple\"\n",
    "Step 1: Reverse the input: \"elppa\"\n",
    "Step 2: Replace all vowels using the following chart:\n",
    "a => 0\n",
    "e => 1\n",
    "i => 2\n",
    "o => 2\n",
    "u => 3\n",
    "# \"1lpp0\"\n",
    "Step 3: Add \"aca\" to the end of the word: \"1lpp0aca\"\n",
    "Output: \"1lpp0aca\"\n",
    "\n",
    "Examples\n",
    "encrypt(\"banana\") ➞ \"0n0n0baca\"\n",
    "encrypt(\"karaca\") ➞ \"0c0r0kaca\"\n",
    "encrypt(\"burak\") ➞ \"k0r3baca\"\n",
    "encrypt(\"alpaca\") ➞ \"0c0pl0aca\""
   ]
  },
  {
   "cell_type": "code",
   "execution_count": 18,
   "id": "911a76f9",
   "metadata": {},
   "outputs": [
    {
     "name": "stdout",
     "output_type": "stream",
     "text": [
      "0n0n0baca\n",
      "0c0r0kaca\n",
      "kar3baca\n",
      "0c0pl0aca\n"
     ]
    }
   ],
   "source": [
    "vowels = \"aeiou\"\n",
    "def isVowel(v):\n",
    "    if v in vowels:\n",
    "        return True\n",
    "    return False\n",
    "\n",
    "def value(a):\n",
    "    if a == \"a\":\n",
    "        return str(0)\n",
    "    elif a == \"e\":\n",
    "        return str(1)\n",
    "    elif a == \"i\":\n",
    "        return str(2)\n",
    "    elif a == \"o\":\n",
    "        return str(2)\n",
    "    elif a == \"u\":\n",
    "        return str(3)\n",
    "\n",
    "def encrypt(s):\n",
    "    s = s[::-1]\n",
    "    for i in s:\n",
    "        if isVowel(i) == True:\n",
    "            s1 = s.replace(i,value(i))\n",
    "    return s1 + \"aca\"\n",
    "    \n",
    "print(encrypt(\"banana\"))\n",
    "print(encrypt(\"karaca\"))\n",
    "print(encrypt(\"burak\"))\n",
    "print(encrypt(\"alpaca\"))"
   ]
  },
  {
   "cell_type": "raw",
   "id": "d548ff06",
   "metadata": {},
   "source": [
    "3. Given the month and year as numbers, return whether that month contains a Friday 13th.(i.e You can check Python's datetime module)\n",
    "\n",
    "Examples\n",
    "has_friday_13(3, 2020) ➞ True\n",
    "has_friday_13(10, 2017) ➞ True\n",
    "has_friday_13(1, 1985) ➞ False"
   ]
  },
  {
   "cell_type": "code",
   "execution_count": 51,
   "id": "b64e6d5b",
   "metadata": {},
   "outputs": [
    {
     "name": "stdout",
     "output_type": "stream",
     "text": [
      "False\n",
      "True\n",
      "True\n"
     ]
    }
   ],
   "source": [
    "import datetime \n",
    "\n",
    "def has_friday_13(m, y):\n",
    "    return 'True' if datetime.datetime.strptime('13 '+' '+str(m)+' '+str(y), '%d %m %Y').weekday()==4 else 'False'\n",
    "\n",
    "print(has_friday_13(1, 1985))\n",
    "print(has_friday_13(3, 2020))\n",
    "print(has_friday_13(10, 2017))"
   ]
  },
  {
   "cell_type": "raw",
   "id": "1995ad08",
   "metadata": {},
   "source": [
    "4. Write a regular expression that will help us count how many bad cookies are produced every day. You must use RegEx negative lookbehind.\n",
    "\n",
    "Example\n",
    "lst = [\"bad cookie\", \"good cookie\", \"bad cookie\", \"good cookie\", \"good cookie\"]\n",
    "pattern = \"yourregularexpressionhere\"\n",
    "\n",
    "len(re.findall(pattern, \", \".join(lst))) ➞ 2"
   ]
  },
  {
   "cell_type": "code",
   "execution_count": 68,
   "id": "f11dc632",
   "metadata": {},
   "outputs": [
    {
     "data": {
      "text/plain": [
       "2"
      ]
     },
     "execution_count": 68,
     "metadata": {},
     "output_type": "execute_result"
    }
   ],
   "source": [
    "lst = [\"bad cookie\", \"good cookie\", \"bad cookie\", \"good cookie\", \"good cookie\"]\n",
    "pattern = re.compile(\"(?<!(good)\\s)cookie\")\n",
    "\n",
    "len(re.findall(pattern, str(lst)))"
   ]
  },
  {
   "cell_type": "raw",
   "id": "0ca7ae57",
   "metadata": {},
   "source": [
    "5. Given a list of words in the singular form, return a set of those words in the plural form if they appear more than once in the list.\n",
    "\n",
    "Examples\n",
    "pluralize([\"cow\", \"pig\", \"cow\", \"cow\"]) ➞ { \"cows\", \"pig\" }\n",
    "pluralize([\"table\", \"table\", \"table\"]) ➞ { \"tables\" }\n",
    "pluralize([\"chair\", \"pencil\", \"arm\"]) ➞ { \"chair\", \"pencil\", \"arm\" }"
   ]
  },
  {
   "cell_type": "code",
   "execution_count": 35,
   "id": "05a10299",
   "metadata": {},
   "outputs": [
    {
     "name": "stdout",
     "output_type": "stream",
     "text": [
      "{'cows', 'pig'}\n",
      "{'tables'}\n",
      "{'pencil', 'arm', 'chair'}\n"
     ]
    }
   ],
   "source": [
    "def pluralize(words):\n",
    "    plurals = set()\n",
    "    for i in words:\n",
    "        if words.count(i)>1:\n",
    "            p = i+\"s\"\n",
    "            plurals.add(p)\n",
    "        else:\n",
    "            plurals.add(i)\n",
    "    return plurals\n",
    "\n",
    "print(pluralize([\"cow\", \"pig\", \"cow\", \"cow\"]))\n",
    "print(pluralize([\"table\", \"table\", \"table\"]))\n",
    "print(pluralize([\"chair\", \"pencil\", \"arm\"]))"
   ]
  }
 ],
 "metadata": {
  "kernelspec": {
   "display_name": "Python 3",
   "language": "python",
   "name": "python3"
  },
  "language_info": {
   "codemirror_mode": {
    "name": "ipython",
    "version": 3
   },
   "file_extension": ".py",
   "mimetype": "text/x-python",
   "name": "python",
   "nbconvert_exporter": "python",
   "pygments_lexer": "ipython3",
   "version": "3.8.8"
  }
 },
 "nbformat": 4,
 "nbformat_minor": 5
}
