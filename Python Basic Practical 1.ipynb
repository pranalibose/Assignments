{
 "cells": [
  {
   "cell_type": "markdown",
   "id": "67c7a53d",
   "metadata": {},
   "source": [
    "1.\tWrite a Python program to print \"Hello Python\"?"
   ]
  },
  {
   "cell_type": "code",
   "execution_count": 1,
   "id": "cb886f56",
   "metadata": {},
   "outputs": [
    {
     "name": "stdout",
     "output_type": "stream",
     "text": [
      "Hello Python\n"
     ]
    }
   ],
   "source": [
    "print(\"Hello Python\")"
   ]
  },
  {
   "cell_type": "markdown",
   "id": "6ea68e30",
   "metadata": {},
   "source": [
    "2. Write a Python program to do arithmetical operations addition and division.?"
   ]
  },
  {
   "cell_type": "code",
   "execution_count": 3,
   "id": "e8ff5cbb",
   "metadata": {},
   "outputs": [
    {
     "name": "stdout",
     "output_type": "stream",
     "text": [
      "Addition Operation: 17\n",
      "Division Operation: 4.0\n"
     ]
    }
   ],
   "source": [
    "print(\"Addition Operation: \" + str(8+9))\n",
    "print(\"Division Operation: \" + str(12/3))"
   ]
  },
  {
   "cell_type": "markdown",
   "id": "16c78bd0",
   "metadata": {},
   "source": [
    "3.\tWrite a Python program to find the area of a triangle?"
   ]
  },
  {
   "cell_type": "code",
   "execution_count": 17,
   "id": "5619a015",
   "metadata": {},
   "outputs": [
    {
     "name": "stdout",
     "output_type": "stream",
     "text": [
      "Area of a triangle with radius = 2 is 12.56\n"
     ]
    }
   ],
   "source": [
    "pi = 3.14\n",
    "def area(r):\n",
    "    return pi*(r**2)\n",
    "\n",
    "r = 2\n",
    "print(\"Area of a triangle with radius = \" + str(r) + \" is \" + str(area(r)))"
   ]
  },
  {
   "cell_type": "markdown",
   "id": "9b1f0e8d",
   "metadata": {},
   "source": [
    "4.\tWrite a Python program to swap two variables?"
   ]
  },
  {
   "cell_type": "code",
   "execution_count": 8,
   "id": "e96d3683",
   "metadata": {},
   "outputs": [
    {
     "name": "stdout",
     "output_type": "stream",
     "text": [
      "Before swap:\n",
      "a = 2 b = 100\n",
      "After swap:\n",
      "a = 100 b = 2\n"
     ]
    }
   ],
   "source": [
    "def swap(a,b):\n",
    "    a,b = b,a\n",
    "    return a,b\n",
    "\n",
    "a = 2\n",
    "b = 100\n",
    "print(\"Before swap:\")\n",
    "print(\"a = \" + str(a) + \" b = \" + str(b))\n",
    "a,b = swap(a, b)\n",
    "print(\"After swap:\")\n",
    "print(\"a = \" + str(a) + \" b = \" + str(b))"
   ]
  },
  {
   "cell_type": "markdown",
   "id": "a2a4eec0",
   "metadata": {},
   "source": [
    "5.\tWrite a Python program to generate a random number?"
   ]
  },
  {
   "cell_type": "code",
   "execution_count": 18,
   "id": "30a56310",
   "metadata": {},
   "outputs": [
    {
     "name": "stdout",
     "output_type": "stream",
     "text": [
      "222\n"
     ]
    }
   ],
   "source": [
    "import random\n",
    "\n",
    "def generate_random(start, stop):\n",
    "    return random.randint(start, stop)\n",
    "\n",
    "print(generate_random(3,300))"
   ]
  }
 ],
 "metadata": {
  "kernelspec": {
   "display_name": "Python 3",
   "language": "python",
   "name": "python3"
  },
  "language_info": {
   "codemirror_mode": {
    "name": "ipython",
    "version": 3
   },
   "file_extension": ".py",
   "mimetype": "text/x-python",
   "name": "python",
   "nbconvert_exporter": "python",
   "pygments_lexer": "ipython3",
   "version": "3.8.8"
  }
 },
 "nbformat": 4,
 "nbformat_minor": 5
}
