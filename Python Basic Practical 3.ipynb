{
 "cells": [
  {
   "cell_type": "markdown",
   "id": "1c379ad7",
   "metadata": {},
   "source": [
    "1.\tWrite a Python Program to Check if a Number is Positive, Negative or Zero?"
   ]
  },
  {
   "cell_type": "code",
   "execution_count": 6,
   "id": "1dc3206b",
   "metadata": {},
   "outputs": [
    {
     "data": {
      "text/plain": [
       "('Negative Number!', \"It's a Zero!\", 'Positive Number!')"
      ]
     },
     "execution_count": 6,
     "metadata": {},
     "output_type": "execute_result"
    }
   ],
   "source": [
    "def check(num):\n",
    "    if num>0:\n",
    "        return \"Positive Number!\"\n",
    "    elif num<0:\n",
    "        return \"Negative Number!\"\n",
    "    return \"It's a Zero!\"\n",
    "\n",
    "check(-5), check(0), check(7)"
   ]
  },
  {
   "cell_type": "markdown",
   "id": "410f4405",
   "metadata": {},
   "source": [
    "2.\tWrite a Python Program to Check if a Number is Odd or Even?"
   ]
  },
  {
   "cell_type": "code",
   "execution_count": 1,
   "id": "da4548c2",
   "metadata": {},
   "outputs": [
    {
     "data": {
      "text/plain": [
       "('Even number', 'Odd number')"
      ]
     },
     "execution_count": 1,
     "metadata": {},
     "output_type": "execute_result"
    }
   ],
   "source": [
    "def check(num):\n",
    "    if num%2 == 0:\n",
    "        return \"Even number\"\n",
    "    return \"Odd number\"\n",
    "\n",
    "check(4), check(15)"
   ]
  },
  {
   "cell_type": "markdown",
   "id": "633e2229",
   "metadata": {},
   "source": [
    "3.\tWrite a Python Program to Check Leap Year?"
   ]
  },
  {
   "cell_type": "code",
   "execution_count": 13,
   "id": "20023d5c",
   "metadata": {},
   "outputs": [
    {
     "data": {
      "text/plain": [
       "('Not a Leap Year', 'Leap Year')"
      ]
     },
     "execution_count": 13,
     "metadata": {},
     "output_type": "execute_result"
    }
   ],
   "source": [
    "def leap_check(y):\n",
    "    if ((y % 400 == 0) or\n",
    "        (y % 100 != 0) and\n",
    "        (y % 4 == 0)):\n",
    "        return \"Leap Year\"\n",
    "    return \"Not a Leap Year\"\n",
    "\n",
    "leap_check(2001), leap_check(2024)"
   ]
  },
  {
   "cell_type": "markdown",
   "id": "ee86ff70",
   "metadata": {},
   "source": [
    "4.\tWrite a Python Program to Check Prime Number?"
   ]
  },
  {
   "cell_type": "code",
   "execution_count": 25,
   "id": "a93e879e",
   "metadata": {},
   "outputs": [
    {
     "data": {
      "text/plain": [
       "'Not a Prime'"
      ]
     },
     "execution_count": 25,
     "metadata": {},
     "output_type": "execute_result"
    }
   ],
   "source": [
    "# Check whether a umber is prime or not\n",
    "def check(num):\n",
    "    \n",
    "    for i in range(2,num):\n",
    "        if (num%i) == 0:\n",
    "            return \"Not a Prime\"\n",
    "    return \"Prime\"\n",
    "\n",
    "check(4)\n"
   ]
  },
  {
   "cell_type": "markdown",
   "id": "71c71554",
   "metadata": {},
   "source": [
    "5.\tWrite a Python Program to Print all Prime Numbers in an Interval of 1-10000?"
   ]
  },
  {
   "cell_type": "code",
   "execution_count": 26,
   "id": "26796fa2",
   "metadata": {},
   "outputs": [
    {
     "name": "stdout",
     "output_type": "stream",
     "text": [
      "[1, 2, 3, 5, 7, 11, 13, 17, 19, 23, 29, 31, 37, 41, 43, 47, 53, 59, 61, 67, 71, 73, 79, 83, 89, 97]\n"
     ]
    }
   ],
   "source": [
    "# Using the previous function to check each number for prime\n",
    "def primes(start, end):\n",
    "    primes = []\n",
    "    for i in range(start, end):\n",
    "        if check(i) == \"Prime\":\n",
    "            primes.append(i)\n",
    "    return primes\n",
    "\n",
    "primes_list = primes(1,100)\n",
    "print(primes_list)"
   ]
  }
 ],
 "metadata": {
  "kernelspec": {
   "display_name": "Python 3",
   "language": "python",
   "name": "python3"
  },
  "language_info": {
   "codemirror_mode": {
    "name": "ipython",
    "version": 3
   },
   "file_extension": ".py",
   "mimetype": "text/x-python",
   "name": "python",
   "nbconvert_exporter": "python",
   "pygments_lexer": "ipython3",
   "version": "3.8.8"
  }
 },
 "nbformat": 4,
 "nbformat_minor": 5
}
