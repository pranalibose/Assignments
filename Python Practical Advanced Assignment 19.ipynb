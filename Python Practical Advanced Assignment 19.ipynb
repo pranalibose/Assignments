{
 "cells": [
  {
   "cell_type": "markdown",
   "id": "97bd1f6a",
   "metadata": {},
   "source": [
    "# Python Practical Advanced Assignment 19"
   ]
  },
  {
   "cell_type": "markdown",
   "id": "76364821",
   "metadata": {},
   "source": [
    "1. Create a checker board generator, which takes as inputs n and 2 elements to generate an n x n checkerboard with those two elements as alternating squares.\n",
    "\n",
    "Examples\n",
    "\n",
    "checker_board(2, 7, 6) ➞ [\n",
    "  [7, 6],\n",
    "  [6, 7]\n",
    "]\n",
    "\n",
    "checker_board(3, \"A\", \"B\") ➞ [\n",
    "  [\"A\", \"B\", \"A\"],\n",
    "  [\"B\", \"A\", \"B\"],\n",
    "  [\"A\", \"B\", \"A\"]\n",
    "]\n",
    "\n",
    "checker_board(4, \"c\", \"d\") ➞ [\n",
    "  [\"c\", \"d\", \"c\", \"d\"],\n",
    "  [\"d\", \"c\", \"d\", \"c\"],\n",
    "  [\"c\", \"d\", \"c\", \"d\"],\n",
    "  [\"d\", \"c\", \"d\", \"c\"]\n",
    "]\n",
    "\n",
    "checker_board(4, \"c\", \"c\") ➞ \"invalid\"\n"
   ]
  },
  {
   "cell_type": "code",
   "execution_count": 84,
   "id": "6962ae92",
   "metadata": {},
   "outputs": [
    {
     "name": "stdout",
     "output_type": "stream",
     "text": [
      "[[7, 6], [7, 6]]\n",
      "[['A', 'B', 'A'], ['A', 'B', 'A'], ['A', 'B', 'A']]\n",
      "[['c', 'd', 'c', 'd'], ['c', 'd', 'c', 'd'], ['c', 'd', 'c', 'd'], ['c', 'd', 'c', 'd']]\n",
      "invalid\n"
     ]
    }
   ],
   "source": [
    "def checker_board(n,a,b):\n",
    "    if a == b:\n",
    "        return \"invalid\"\n",
    "    result = [[a if i%2==0 else b for i in range(0,n)]]*n\n",
    "    return result\n",
    "\n",
    "print(checker_board(2, 7, 6))\n",
    "print(checker_board(3, \"A\", \"B\"))\n",
    "print(checker_board(4, \"c\", \"d\"))\n",
    "print(checker_board(4, \"c\", \"c\"))"
   ]
  },
  {
   "cell_type": "markdown",
   "id": "d3d3b091",
   "metadata": {},
   "source": [
    "2. A string is an almost-palindrome if, by changing only one character, you can make it a palindrome. Create a function that returns True if a string is an almost-palindrome and False otherwise.\n",
    "\n",
    "Examples\n",
    "\n",
    "almost_palindrome(\"abcdcbg\") ➞ True\n",
    "Transformed to \"abcdcba\" by changing \"g\" to \"a\".\n",
    "\n",
    "almost_palindrome(\"abccia\") ➞ True\n",
    "Transformed to \"abccba\" by changing \"i\" to \"b\".\n",
    "\n",
    "almost_palindrome(\"abcdaaa\") ➞ False\n",
    "Can't be transformed to a palindrome in exactly 1 turn.\n",
    "\n",
    "almost_palindrome(\"1234312\") ➞ False\n"
   ]
  },
  {
   "cell_type": "code",
   "execution_count": 73,
   "id": "ec340df0",
   "metadata": {},
   "outputs": [
    {
     "name": "stdout",
     "output_type": "stream",
     "text": [
      "True\n",
      "True\n",
      "False\n",
      "False\n"
     ]
    }
   ],
   "source": [
    "def almost_palindrome(string):\n",
    "    if int(len(string))%2 == 0:\n",
    "        parts = [string[0:int(len(string)/2)], string[int(len(string)/2):]]\n",
    "    else:\n",
    "        mid = string[int(len(string)/2):int(len(string)/2)+1]\n",
    "        parts = string.split(mid)\n",
    "    parts[1] = parts[1][::-1]\n",
    "    reverse = ''\n",
    "    count = 0\n",
    "    for i in range(0,len(parts[0])):\n",
    "        if parts[0][i] != parts[1][i]:\n",
    "            count += 1\n",
    "    if count>1:\n",
    "        return False\n",
    "    return True\n",
    "\n",
    "print(almost_palindrome(\"abcdcbg\"))\n",
    "print(almost_palindrome(\"abccia\"))\n",
    "print(almost_palindrome(\"abcdaaa\"))\n",
    "print(almost_palindrome(\"1234312\"))"
   ]
  },
  {
   "cell_type": "markdown",
   "id": "9c60011b",
   "metadata": {},
   "source": [
    "3. Create a function that finds how many prime numbers there are, up to the given integer.\n",
    "\n",
    "Examples\n",
    "\n",
    "prime_numbers(10) ➞ 4\n",
    "2, 3, 5 and 7\n",
    "\n",
    "prime_numbers(20) ➞ 8\n",
    "2, 3, 5, 7, 11, 13, 17 and 19\n",
    "\n",
    "prime_numbers(30) ➞ 10\n",
    "2, 3, 5, 7, 11, 13, 17, 19, 23 and 29\n"
   ]
  },
  {
   "cell_type": "code",
   "execution_count": 4,
   "id": "7e76fc21",
   "metadata": {},
   "outputs": [
    {
     "name": "stdout",
     "output_type": "stream",
     "text": [
      "4\n",
      "8\n",
      "10\n"
     ]
    }
   ],
   "source": [
    "def check_prime(n):\n",
    "    for i in range(2,int(n/2)+1):\n",
    "        if n%i == 0:\n",
    "            return False\n",
    "    return True\n",
    "    \n",
    "def prime_numbers(limit):\n",
    "    result = [i for i in range(2,limit) if check_prime(i) == True]\n",
    "    return len(result)\n",
    "\n",
    "print(prime_numbers(10))\n",
    "print(prime_numbers(20))\n",
    "print(prime_numbers(30))"
   ]
  },
  {
   "cell_type": "markdown",
   "id": "ff53e060",
   "metadata": {},
   "source": [
    "4. If today was Monday, in two days, it would be Wednesday.\n",
    "\n",
    "Create a function that takes in a list of days as input and the number of days to increment by. Return a list of days after n number of days has passed.\n",
    "\n",
    "Examples\n",
    "\n",
    "after_n_days([\"Thursday\", \"Monday\"], 4) ➞ [\"Monday\", \"Friday\"]\n",
    "\n",
    "after_n_days([\"Sunday\", \"Sunday\", \"Sunday\"], 1) ➞ [\"Monday\", \"Monday\", \"Monday\"]\n",
    "\n",
    "after_n_days([\"Monday\", \"Tuesday\", \"Friday\"], 1) ➞ [\"Tuesday\", \"Wednesday\", \"Saturday\"]\n"
   ]
  },
  {
   "cell_type": "code",
   "execution_count": 23,
   "id": "231e4c04",
   "metadata": {},
   "outputs": [
    {
     "name": "stdout",
     "output_type": "stream",
     "text": [
      "['Monday', 'Friday']\n",
      "['Monday', 'Monday', 'Monday']\n",
      "['Tuesday', 'Wednesday', 'Saturday']\n"
     ]
    }
   ],
   "source": [
    "def dayFind(startDay, increment):\n",
    "    days = ['Monday', 'Tuesday', 'Wednesday', 'Thursday', 'Friday', 'Saturday', 'Sunday']\n",
    "    index = days.index(startDay)\n",
    "    index = index + increment\n",
    "    if index >=7:\n",
    "        index = index %7\n",
    "    day = days[index]\n",
    "    return day\n",
    "    \n",
    "def after_n_days(days, increment):\n",
    "    result = []\n",
    "    for i in days:\n",
    "        result.append(dayFind(i, increment))\n",
    "        \n",
    "    return result\n",
    "        \n",
    "print(after_n_days([\"Thursday\", \"Monday\"], 4))\n",
    "print(after_n_days([\"Sunday\", \"Sunday\", \"Sunday\"], 1))\n",
    "print(after_n_days([\"Monday\", \"Tuesday\", \"Friday\"], 1))"
   ]
  },
  {
   "cell_type": "markdown",
   "id": "ebeee738",
   "metadata": {},
   "source": [
    "5. You are in the process of creating a chat application and want to add an anonymous name feature. This anonymous name feature will create an alias that consists of two capitalized words beginning with the same letter as the users first name.\n",
    "\n",
    "Create a function that determines if the list of users is mapped to a list of anonymous names correctly.\n",
    "\n",
    "Examples\n",
    "\n",
    "is_correct_aliases([\"Adrian M.\", \"Harriet S.\", \"Mandy T.\"], [\"Amazing Artichoke\", \"Hopeful Hedgehog\", \"Marvelous Mouse\"]) ➞ True\n",
    "\n",
    "is_correct_aliases([\"Rachel F.\", \"Pam G.\", \"Fred Z.\", \"Nancy K.\"], [\"Reassuring Rat\", \"Peaceful Panda\", \"Fantastic Frog\", \"Notable Nickel\"]) ➞ True\n",
    "\n",
    "is_correct_aliases([\"Beth T.\"], [\"Brandishing Mimosa\"]) ➞ False\n",
    " Both words in \"Brandishing Mimosa\" should begin with a \"B\" - \"Brandishing Beaver\" would do the trick.\n"
   ]
  },
  {
   "cell_type": "code",
   "execution_count": 36,
   "id": "16503b5a",
   "metadata": {},
   "outputs": [
    {
     "name": "stdout",
     "output_type": "stream",
     "text": [
      "True\n",
      "True\n",
      "False\n"
     ]
    }
   ],
   "source": [
    "def is_correct_aliases(str1,str2):\n",
    "    for i in range(0, len(str1)):\n",
    "        for k in str2[i].split():\n",
    "            if k[0] != str1[i][0]:\n",
    "                return False\n",
    "    return True\n",
    "\n",
    "print(is_correct_aliases([\"Adrian M.\", \"Harriet S.\", \"Mandy T.\"], [\"Amazing Artichoke\", \"Hopeful Hedgehog\", \"Marvelous Mouse\"]))\n",
    "print(is_correct_aliases([\"Rachel F.\", \"Pam G.\", \"Fred Z.\", \"Nancy K.\"], [\"Reassuring Rat\", \"Peaceful Panda\", \"Fantastic Frog\", \"Notable Nickel\"]))\n",
    "print(is_correct_aliases([\"Beth T.\"], [\"Brandishing Mimosa\"]))"
   ]
  }
 ],
 "metadata": {
  "kernelspec": {
   "display_name": "Python 3",
   "language": "python",
   "name": "python3"
  },
  "language_info": {
   "codemirror_mode": {
    "name": "ipython",
    "version": 3
   },
   "file_extension": ".py",
   "mimetype": "text/x-python",
   "name": "python",
   "nbconvert_exporter": "python",
   "pygments_lexer": "ipython3",
   "version": "3.8.8"
  }
 },
 "nbformat": 4,
 "nbformat_minor": 5
}
