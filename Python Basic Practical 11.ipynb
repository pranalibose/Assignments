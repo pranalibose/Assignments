{
 "cells": [
  {
   "cell_type": "markdown",
   "id": "eb39e227",
   "metadata": {},
   "source": [
    "### Write a Python program to find words which are greater than given length k?"
   ]
  },
  {
   "cell_type": "code",
   "execution_count": 2,
   "id": "f8136d58",
   "metadata": {},
   "outputs": [
    {
     "data": {
      "text/plain": [
       "['street', 'might', 'study', 'machine learning', 'a pie']"
      ]
     },
     "execution_count": 2,
     "metadata": {},
     "output_type": "execute_result"
    }
   ],
   "source": [
    "def find_words(l, k):\n",
    "    return [i for i in l if len(i)>k]\n",
    "\n",
    "find_words(['street', 'might', 'cat', 'study', 'machine learning', 'bye', 'a pie'], 4)"
   ]
  },
  {
   "cell_type": "markdown",
   "id": "517d5def",
   "metadata": {},
   "source": [
    "### Write a Python program for removing i-th character from a string?"
   ]
  },
  {
   "cell_type": "code",
   "execution_count": 1,
   "id": "4cbd4275",
   "metadata": {},
   "outputs": [
    {
     "data": {
      "text/plain": [
       "'helo'"
      ]
     },
     "execution_count": 1,
     "metadata": {},
     "output_type": "execute_result"
    }
   ],
   "source": [
    "def rem_char(string, i):\n",
    "    string = string.replace(string[i], '',1)\n",
    "    return string\n",
    "        \n",
    "rem_char('hello', 3)"
   ]
  },
  {
   "cell_type": "markdown",
   "id": "5e8eedef",
   "metadata": {},
   "source": [
    "### Write a Python program to split and join a string?"
   ]
  },
  {
   "cell_type": "code",
   "execution_count": 12,
   "id": "ae08e1c9",
   "metadata": {},
   "outputs": [
    {
     "name": "stdout",
     "output_type": "stream",
     "text": [
      "['This', 'is', 'a', 'string!']\n",
      "Strings within a list\n"
     ]
    }
   ],
   "source": [
    "def split(s):\n",
    "    return s.split()\n",
    "\n",
    "def join(l):\n",
    "    return \" \".join(l)\n",
    "\n",
    "print(split(\"This is a string!\"))\n",
    "print(join(['Strings', 'within', 'a', 'list']))"
   ]
  },
  {
   "cell_type": "markdown",
   "id": "34e5c2a7",
   "metadata": {},
   "source": [
    "### Write a Python to check if a given string is binary string or not?"
   ]
  },
  {
   "cell_type": "code",
   "execution_count": 14,
   "id": "837cbbdf",
   "metadata": {},
   "outputs": [
    {
     "data": {
      "text/plain": [
       "True"
      ]
     },
     "execution_count": 14,
     "metadata": {},
     "output_type": "execute_result"
    }
   ],
   "source": [
    "import re\n",
    "c = re.compile('[^01]')\n",
    "def check_bin(string):\n",
    "    return True if(len(c.findall(string))==0) else False\n",
    "check_bin(\"01010111100\")"
   ]
  },
  {
   "cell_type": "markdown",
   "id": "f2a4bbf1",
   "metadata": {},
   "source": [
    "### Write a Python program to find uncommon words from two Strings?"
   ]
  },
  {
   "cell_type": "code",
   "execution_count": 34,
   "id": "481200e8",
   "metadata": {},
   "outputs": [
    {
     "data": {
      "text/plain": [
       "['I', 'like', 'to', 'read', 'This', 'is']"
      ]
     },
     "execution_count": 34,
     "metadata": {},
     "output_type": "execute_result"
    }
   ],
   "source": [
    "def uncommon(a,b):\n",
    "    result = [i for i in \"\".join(b).split() if i not in \"\".join(a).split()] + [i for i in \"\".join(a).split() if i not in \"\".join(b).split()]\n",
    "    return result\n",
    "\n",
    "uncommon(\"This is a book.\", 'I like to read a book.')"
   ]
  },
  {
   "cell_type": "markdown",
   "id": "86f558df",
   "metadata": {},
   "source": [
    "### Write a Python to find all duplicate characters in string?"
   ]
  },
  {
   "cell_type": "code",
   "execution_count": 6,
   "id": "e76af1e3",
   "metadata": {},
   "outputs": [
    {
     "data": {
      "text/plain": [
       "{'c', 'e', 'i', 'l', 'o', 's', 't'}"
      ]
     },
     "execution_count": 6,
     "metadata": {},
     "output_type": "execute_result"
    }
   ],
   "source": [
    "def find_duplicate(string):\n",
    "    return set([i for i in string.lower() if string.lower().count(i.lower())>1 and i!=' '])\n",
    "\n",
    "find_duplicate(\"I like to study Social Science!\")"
   ]
  },
  {
   "cell_type": "markdown",
   "id": "5990e94e",
   "metadata": {},
   "source": [
    "### Write a Python Program to check if a string contains any special character?"
   ]
  },
  {
   "cell_type": "code",
   "execution_count": 20,
   "id": "affaa75f",
   "metadata": {},
   "outputs": [
    {
     "data": {
      "text/plain": [
       "False"
      ]
     },
     "execution_count": 20,
     "metadata": {},
     "output_type": "execute_result"
    }
   ],
   "source": [
    "def check_special(string):\n",
    "    return True if string.isalnum() else False\n",
    "\n",
    "check_special(\"iurfbieur!!\")"
   ]
  }
 ],
 "metadata": {
  "kernelspec": {
   "display_name": "Python 3",
   "language": "python",
   "name": "python3"
  },
  "language_info": {
   "codemirror_mode": {
    "name": "ipython",
    "version": 3
   },
   "file_extension": ".py",
   "mimetype": "text/x-python",
   "name": "python",
   "nbconvert_exporter": "python",
   "pygments_lexer": "ipython3",
   "version": "3.8.8"
  }
 },
 "nbformat": 4,
 "nbformat_minor": 5
}
