{
 "cells": [
  {
   "cell_type": "markdown",
   "id": "61513466",
   "metadata": {},
   "source": [
    "### Write a Python Program to Display Fibonacci Sequence Using Recursion?"
   ]
  },
  {
   "cell_type": "code",
   "execution_count": 18,
   "id": "223699f7",
   "metadata": {},
   "outputs": [
    {
     "name": "stdout",
     "output_type": "stream",
     "text": [
      "Enter the series length: 8\n",
      "0\n",
      "1\n",
      "1\n",
      "2\n",
      "3\n",
      "5\n",
      "8\n",
      "13\n"
     ]
    }
   ],
   "source": [
    "def fib(num):\n",
    "    if num<=1:\n",
    "        return num\n",
    "    else:\n",
    "        return (fib(num-1) + fib(num-2))   \n",
    "try:\n",
    "    n = int(input(\"Enter the series length: \"))\n",
    "    for i in range(n):\n",
    "        print(fib(i))\n",
    "except Exception as e:\n",
    "    print(e)"
   ]
  },
  {
   "cell_type": "markdown",
   "id": "83a4ae69",
   "metadata": {},
   "source": [
    "### Write a Python Program to Find Factorial of Number Using Recursion? "
   ]
  },
  {
   "cell_type": "code",
   "execution_count": 19,
   "id": "7a16583f",
   "metadata": {},
   "outputs": [
    {
     "name": "stdout",
     "output_type": "stream",
     "text": [
      "Want to find the factorial of? 7\n",
      "Factorial of the number is:  5040\n"
     ]
    }
   ],
   "source": [
    "def fact(num):\n",
    "    if num==1:\n",
    "        return num\n",
    "    else:\n",
    "        return num*fact(num-1)\n",
    "    \n",
    "try:\n",
    "    n = int(input(\"Want to find the factorial of? \"))\n",
    "    print('Factorial of the number is: ', fact(n))\n",
    "except Exception as e:\n",
    "    print(e)"
   ]
  },
  {
   "cell_type": "markdown",
   "id": "45c5dff3",
   "metadata": {},
   "source": [
    "### Write a Python Program to calculate your Body Mass Index? "
   ]
  },
  {
   "cell_type": "code",
   "execution_count": 20,
   "id": "9270e503",
   "metadata": {},
   "outputs": [
    {
     "name": "stdout",
     "output_type": "stream",
     "text": [
      "Enter your height in cm: 159\n",
      "Enter your weight in kg: 55\n",
      "Your BMI is:  21.75546853368142\n"
     ]
    }
   ],
   "source": [
    "def bmi(height, weight):\n",
    "    return (weight / (height/100)**2)\n",
    "\n",
    "try:\n",
    "    height = float(input(\"Enter your height in cm: \"))\n",
    "    weight = float(input(\"Enter your weight in kg: \"))\n",
    "    print(\"Your BMI is: \", bmi(height, weight))\n",
    "except Exception as e:\n",
    "    print(e)"
   ]
  },
  {
   "cell_type": "markdown",
   "id": "0f6396a0",
   "metadata": {},
   "source": [
    "### Write a Python Program to calculate the natural logarithm of any number? "
   ]
  },
  {
   "cell_type": "code",
   "execution_count": 22,
   "id": "9696e55f",
   "metadata": {},
   "outputs": [
    {
     "name": "stdout",
     "output_type": "stream",
     "text": [
      "Log of 8 is:  2.0794415416798357\n"
     ]
    }
   ],
   "source": [
    "import math\n",
    "def log(n):\n",
    "    return math.log(n)\n",
    "\n",
    "print(\"Log of 8 is: \", log(8))"
   ]
  },
  {
   "cell_type": "markdown",
   "id": "3625e158",
   "metadata": {},
   "source": [
    "### Write a Python Program for cube sum of first n natural numbers? "
   ]
  },
  {
   "cell_type": "code",
   "execution_count": 23,
   "id": "0c1f047a",
   "metadata": {},
   "outputs": [
    {
     "name": "stdout",
     "output_type": "stream",
     "text": [
      "Sum of cubes of first 10 natural numbers is:  3025.0\n"
     ]
    }
   ],
   "source": [
    "def cube_sum(n):\n",
    "    return ((n*(n+1))/2)**2\n",
    "\n",
    "print(\"Sum of cubes of first 10 natural numbers is: \", cube_sum(10))"
   ]
  }
 ],
 "metadata": {
  "kernelspec": {
   "display_name": "Python 3",
   "language": "python",
   "name": "python3"
  },
  "language_info": {
   "codemirror_mode": {
    "name": "ipython",
    "version": 3
   },
   "file_extension": ".py",
   "mimetype": "text/x-python",
   "name": "python",
   "nbconvert_exporter": "python",
   "pygments_lexer": "ipython3",
   "version": "3.8.8"
  }
 },
 "nbformat": 4,
 "nbformat_minor": 5
}
