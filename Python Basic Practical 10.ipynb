{
 "cells": [
  {
   "cell_type": "markdown",
   "id": "756fc750",
   "metadata": {},
   "source": [
    "### Write a Python program to find sum of elements in list? "
   ]
  },
  {
   "cell_type": "code",
   "execution_count": 5,
   "id": "062ad940",
   "metadata": {},
   "outputs": [
    {
     "data": {
      "text/plain": [
       "183.9"
      ]
     },
     "execution_count": 5,
     "metadata": {},
     "output_type": "execute_result"
    }
   ],
   "source": [
    "def list_sum(l):\n",
    "    return sum(l)\n",
    "\n",
    "list_sum([23, 45, 67, 3, 45.9])"
   ]
  },
  {
   "cell_type": "markdown",
   "id": "56da1eaa",
   "metadata": {},
   "source": [
    "### Write a Python program to Multiply all numbers in the list?"
   ]
  },
  {
   "cell_type": "code",
   "execution_count": 17,
   "id": "5ff7a579",
   "metadata": {},
   "outputs": [
    {
     "name": "stdout",
     "output_type": "stream",
     "text": [
      "List must contain numerics only!\n",
      "9548806.5\n"
     ]
    }
   ],
   "source": [
    "def list_multiply(l):\n",
    "    prod = 1\n",
    "    for i in l:\n",
    "        try:\n",
    "            prod = prod*i\n",
    "        except Exception as e:\n",
    "            return \"List must contain numerics only!\"\n",
    "    return prod\n",
    "        \n",
    "print(list_multiply(['hello', 23, 45, 67, 3, 45.9, 'str']))\n",
    "print(list_multiply([23, 45, 67, 3, 45.9]))"
   ]
  },
  {
   "cell_type": "markdown",
   "id": "78a10d97",
   "metadata": {},
   "source": [
    "### Write a Python program to find smallest number in a list?"
   ]
  },
  {
   "cell_type": "code",
   "execution_count": 18,
   "id": "ef2b625b",
   "metadata": {},
   "outputs": [
    {
     "data": {
      "text/plain": [
       "3"
      ]
     },
     "execution_count": 18,
     "metadata": {},
     "output_type": "execute_result"
    }
   ],
   "source": [
    "def list_min(l):\n",
    "    return min(l)\n",
    "\n",
    "list_min([23, 45, 67, 3, 45.9])"
   ]
  },
  {
   "cell_type": "markdown",
   "id": "86cb3e7e",
   "metadata": {},
   "source": [
    "### Write a Python program to find largest number in a list?"
   ]
  },
  {
   "cell_type": "code",
   "execution_count": 26,
   "id": "28a664cd",
   "metadata": {},
   "outputs": [
    {
     "data": {
      "text/plain": [
       "67"
      ]
     },
     "execution_count": 26,
     "metadata": {},
     "output_type": "execute_result"
    }
   ],
   "source": [
    "def list_max(l):\n",
    "    return max(l)\n",
    "\n",
    "list_max([23, 45, 67, 3, 45.9])"
   ]
  },
  {
   "cell_type": "markdown",
   "id": "1729a658",
   "metadata": {},
   "source": [
    "### Write a Python program to find second largest number in a list?"
   ]
  },
  {
   "cell_type": "code",
   "execution_count": 27,
   "id": "bfc29c73",
   "metadata": {},
   "outputs": [
    {
     "data": {
      "text/plain": [
       "45.9"
      ]
     },
     "execution_count": 27,
     "metadata": {},
     "output_type": "execute_result"
    }
   ],
   "source": [
    "def list_second_max(l):\n",
    "    l.remove(max(l))\n",
    "    return max(l)\n",
    "\n",
    "list_second_max([23, 45, 67, 3, 45.9])"
   ]
  },
  {
   "cell_type": "markdown",
   "id": "5401f6c9",
   "metadata": {},
   "source": [
    "### Write a Python program to find N largest elements from a list?"
   ]
  },
  {
   "cell_type": "code",
   "execution_count": 38,
   "id": "a1cfcb99",
   "metadata": {},
   "outputs": [
    {
     "data": {
      "text/plain": [
       "[1, 2, 3]"
      ]
     },
     "execution_count": 38,
     "metadata": {},
     "output_type": "execute_result"
    }
   ],
   "source": [
    "def largest_list(l, n):\n",
    "    return sorted(l)[:n]\n",
    "\n",
    "largest_list([3,1,50,33,99,2], 3)"
   ]
  },
  {
   "cell_type": "markdown",
   "id": "de62734d",
   "metadata": {},
   "source": [
    "### Write a Python program to print even numbers in a list? "
   ]
  },
  {
   "cell_type": "code",
   "execution_count": 29,
   "id": "e9a8f67f",
   "metadata": {},
   "outputs": [
    {
     "data": {
      "text/plain": [
       "[2]"
      ]
     },
     "execution_count": 29,
     "metadata": {},
     "output_type": "execute_result"
    }
   ],
   "source": [
    "def evens(l):\n",
    "    return [i for i in l if i%2==0]\n",
    "\n",
    "evens([23, 45, 67, 3, 45.9, 2])"
   ]
  },
  {
   "cell_type": "markdown",
   "id": "c1a7a56d",
   "metadata": {},
   "source": [
    "### Write a Python program to print odd numbers in a List?"
   ]
  },
  {
   "cell_type": "code",
   "execution_count": 31,
   "id": "eac8dc2e",
   "metadata": {},
   "outputs": [
    {
     "data": {
      "text/plain": [
       "[23, 45, 67, 3, 45.9]"
      ]
     },
     "execution_count": 31,
     "metadata": {},
     "output_type": "execute_result"
    }
   ],
   "source": [
    "def evens(l):\n",
    "    return [i for i in l if i%2!=0]\n",
    "\n",
    "evens([23, 45, 67, 3, 45.9, 2])"
   ]
  },
  {
   "cell_type": "markdown",
   "id": "41c1060e",
   "metadata": {},
   "source": [
    "### Write a Python program to Remove empty List from List?"
   ]
  },
  {
   "cell_type": "code",
   "execution_count": 41,
   "id": "31935388",
   "metadata": {},
   "outputs": [
    {
     "data": {
      "text/plain": [
       "[34, 'str', 54, [34, 45]]"
      ]
     },
     "execution_count": 41,
     "metadata": {},
     "output_type": "execute_result"
    }
   ],
   "source": [
    "def rem_empty(l):\n",
    "    return [e for e in l if e not in [i for i in l if type(i)==list and len(i)==0]]\n",
    "\n",
    "rem_empty([34, 'str', [], 54, [34,45]])"
   ]
  },
  {
   "cell_type": "markdown",
   "id": "c15a8e99",
   "metadata": {},
   "source": [
    "### Write a Python program to Cloning or Copying a list?"
   ]
  },
  {
   "cell_type": "code",
   "execution_count": 42,
   "id": "a6085dd4",
   "metadata": {},
   "outputs": [
    {
     "data": {
      "text/plain": [
       "[34, 'str', [], 54, [34, 45]]"
      ]
     },
     "execution_count": 42,
     "metadata": {},
     "output_type": "execute_result"
    }
   ],
   "source": [
    "def copy_list(l):\n",
    "    l1 = l[:]\n",
    "    return l1\n",
    "\n",
    "copy_list([34, 'str', [], 54, [34,45]])"
   ]
  },
  {
   "cell_type": "markdown",
   "id": "96d0d146",
   "metadata": {},
   "source": [
    "### Write a Python program to Count occurrences of an element in a list?"
   ]
  },
  {
   "cell_type": "code",
   "execution_count": 44,
   "id": "4a97ed35",
   "metadata": {},
   "outputs": [
    {
     "data": {
      "text/plain": [
       "3"
      ]
     },
     "execution_count": 44,
     "metadata": {},
     "output_type": "execute_result"
    }
   ],
   "source": [
    "def count_occurences(l, element):\n",
    "    return l.count(element)\n",
    "\n",
    "count_occurences([2, 23, 45, 2, 67, 3, 45.9, 2], 2)"
   ]
  }
 ],
 "metadata": {
  "kernelspec": {
   "display_name": "Python 3",
   "language": "python",
   "name": "python3"
  },
  "language_info": {
   "codemirror_mode": {
    "name": "ipython",
    "version": 3
   },
   "file_extension": ".py",
   "mimetype": "text/x-python",
   "name": "python",
   "nbconvert_exporter": "python",
   "pygments_lexer": "ipython3",
   "version": "3.8.8"
  }
 },
 "nbformat": 4,
 "nbformat_minor": 5
}
