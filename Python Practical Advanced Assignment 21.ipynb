{
 "cells": [
  {
   "cell_type": "markdown",
   "id": "ef1afeb2",
   "metadata": {},
   "source": [
    "# Python Practical Advanced Assignment 21"
   ]
  },
  {
   "cell_type": "markdown",
   "id": "f0bf521e",
   "metadata": {},
   "source": [
    "1. Given a sentence, return the number of words which have the same first and last letter.\n",
    "\n",
    "Examples\n",
    "\n",
    "count_same_ends(\"Pop! goes the balloon\") ➞ 1\n",
    "\n",
    "count_same_ends(\"And the crowd goes wild!\") ➞ 0\n",
    "\n",
    "count_same_ends(\"No I am not in a gang.\") ➞ 1\n"
   ]
  },
  {
   "cell_type": "code",
   "execution_count": 27,
   "id": "2bde052a",
   "metadata": {},
   "outputs": [
    {
     "name": "stdout",
     "output_type": "stream",
     "text": [
      "1\n",
      "0\n",
      "1\n"
     ]
    }
   ],
   "source": [
    "def remove_punc(sentence):\n",
    "    for i in sentence:\n",
    "        if i.isalpha() == False and i != ' ':\n",
    "            sentence = sentence.replace(i,'')\n",
    "    return sentence\n",
    "            \n",
    "def count_same_ends(string):\n",
    "    count = 0\n",
    "    str1 = remove_punc(string)\n",
    "    for i in str1.split():\n",
    "        if i.lower()[0] == i.lower()[-1] and len(i) != 1:\n",
    "            count += 1\n",
    "            \n",
    "    return count\n",
    "        \n",
    "print(count_same_ends(\"Pop! goes the balloon\"))\n",
    "print(count_same_ends(\"And the crowd goes wild!\"))\n",
    "print(count_same_ends(\"No I am not in a gang.\"))"
   ]
  },
  {
   "cell_type": "markdown",
   "id": "bb910803",
   "metadata": {},
   "source": [
    "2. The Atbash cipher is an encryption method in which each letter of a word is replaced with its \"mirror\" letter in the alphabet: A <=> Z; B <=> Y; C <=> X; etc.\n",
    "\n",
    "Create a function that takes a string and applies the Atbash cipher to it.\n",
    "\n",
    "Examples\n",
    "\n",
    "atbash(\"apple\") ➞ \"zkkov\"\n",
    "\n",
    "atbash(\"Hello world!\") ➞ \"Svool dliow!\"\n",
    "\n",
    "atbash(\"Christmas is the 25th of December\") ➞ \"Xsirhgnzh rh gsv 25gs lu Wvxvnyvi\"\n"
   ]
  },
  {
   "cell_type": "code",
   "execution_count": 108,
   "id": "f976220b",
   "metadata": {},
   "outputs": [
    {
     "name": "stdout",
     "output_type": "stream",
     "text": [
      "zkkov\n",
      "Svool dliow!\n",
      "Xsirhgnzh rh gsv 25gs lu Wvxvnyvi\n"
     ]
    }
   ],
   "source": [
    "def atbash(string):\n",
    "    alphaset = 'zyxwvutsrqponmlkjihgfedcba'\n",
    "    result = ''\n",
    "    for i in range(0,len(string)):\n",
    "        if string[i].isalpha() == True and string[i].islower() == True:\n",
    "            result = (result + alphaset[ord(string[i]) - ord('a')])\n",
    "        elif string[i].isalpha() == True and string[i].isupper() == True:\n",
    "            result = (result + (alphaset[ord(string[i]) - ord('A')]).upper())\n",
    "        else:\n",
    "            result = result + string[i]\n",
    "    return result\n",
    "        \n",
    "print(atbash(\"apple\"))\n",
    "print(atbash(\"Hello world!\"))\n",
    "print(atbash(\"Christmas is the 25th of December\"))"
   ]
  },
  {
   "cell_type": "markdown",
   "id": "03420628",
   "metadata": {},
   "source": [
    "3. Create a class Employee that will take a full name as argument, as well as a set of none, one or more keywords. Each instance should have a name and a lastname attributes plus one more attribute for each of the keywords, if any.\n",
    "\n",
    "Examples\n",
    "\n",
    "john = Employee(\"John Doe\")\n",
    "mary = Employee(\"Mary Major\", salary=120000)\n",
    "richard = Employee(\"Richard Roe\", salary=110000, height=178)\n",
    "giancarlo = Employee(\"Giancarlo Rossi\", salary=115000, height=182, nationality=\"Italian\")\n",
    "\n",
    "john.name ➞ \"John\"\n",
    "mary.lastname ➞ \"Major\"\n",
    "richard.height ➞ 178\n",
    "giancarlo.nationality ➞ \"Italian\"\n"
   ]
  },
  {
   "cell_type": "code",
   "execution_count": 17,
   "id": "b42e61d3",
   "metadata": {},
   "outputs": [
    {
     "name": "stdout",
     "output_type": "stream",
     "text": [
      "110000\n",
      "Major\n",
      "178\n",
      "Italian\n"
     ]
    }
   ],
   "source": [
    "class Employee:\n",
    "    def __init__(self, *arg, **kwargs):\n",
    "        self.firstname = arg[0].split()[0]\n",
    "        self.lastname = arg[0].split()[1]\n",
    "        self.__dict__.update(kwargs)\n",
    "            \n",
    "richard = Employee(\"Richard Roe\", salary=110000, height=178)\n",
    "john = Employee(\"John Doe\")\n",
    "mary = Employee(\"Mary Major\", salary=120000)\n",
    "giancarlo = Employee(\"Giancarlo Rossi\", salary=115000, height=182, nationality=\"Italian\")\n",
    "print(richard.salary)\n",
    "print(mary.lastname)\n",
    "print(richard.height)\n",
    "print(giancarlo.nationality)"
   ]
  },
  {
   "cell_type": "markdown",
   "id": "3cca34fc",
   "metadata": {},
   "source": [
    "4. Create a function that determines whether each seat can \"see\" the front-stage. A number can \"see\" the front-stage if it is strictly greater than the number before it.\n",
    "\n",
    "Everyone can see the front-stage in the example below:\n",
    "\n",
    " FRONT STAGE\n",
    "[[1, 2, 3, 2, 1, 1],\n",
    "[2, 4, 4, 3, 2, 2],\n",
    "[5, 5, 5, 5, 4, 4],\n",
    "[6, 6, 7, 6, 5, 5]]\n",
    "\n",
    " Starting from the left, the 6 > 5 > 2 > 1, so all numbers can see.\n",
    " 6 > 5 > 4 > 2 - so all numbers can see, etc.\n",
    "\n",
    "Not everyone can see the front-stage in the example below:\n",
    "\n",
    " FRONT STAGE\n",
    "[[1, 2, 3, 2, 1, 1], \n",
    "[2, 4, 4, 3, 2, 2], \n",
    "[5, 5, 5, 10, 4, 4], \n",
    "[6, 6, 7, 6, 5, 5]]\n",
    "\n",
    " The 10 is directly in front of the 6 and blocking its view.\n",
    "\n",
    "The function should return True if every number can see the front-stage, and False if even a single number cannot.\n",
    "\n",
    "Examples\n",
    "\n",
    "can_see_stage([\n",
    "  [1, 2, 3],\n",
    "  [4, 5, 6],\n",
    "  [7, 8, 9]\n",
    "]) ➞ True\n",
    "\n",
    "can_see_stage([\n",
    "  [0, 0, 0],\n",
    "  [1, 1, 1],\n",
    "  [2, 2, 2]\n",
    "]) ➞ True\n",
    "\n",
    "can_see_stage([\n",
    "  [2, 0, 0], \n",
    "  [1, 1, 1], \n",
    "  [2, 2, 2]\n",
    "]) ➞ False\n",
    "\n",
    "can_see_stage([\n",
    "  [1, 0, 0],\n",
    "  [1, 1, 1],\n",
    "  [2, 2, 2]\n",
    "]) ➞ False\n",
    "\n",
    " Number must be strictly smaller than \n",
    " the number directly behind it.\n"
   ]
  },
  {
   "cell_type": "code",
   "execution_count": 79,
   "id": "0a4e8033",
   "metadata": {},
   "outputs": [
    {
     "name": "stdout",
     "output_type": "stream",
     "text": [
      "True\n",
      "True\n",
      "False\n",
      "False\n"
     ]
    }
   ],
   "source": [
    "import numpy\n",
    "def can_see_stage(l):\n",
    "    l = numpy.array(l)\n",
    "    for i in range(0,len(l)):\n",
    "        row_vals = sorted(l[:,i])\n",
    "        for i in range(0,len(row_vals)-1):\n",
    "            if row_vals[i] >= row_vals[i+1]:\n",
    "                return False\n",
    "    return True\n",
    "        \n",
    "print(can_see_stage([ [1, 2, 3], [4, 5, 6], [7, 8, 9] ]))\n",
    "print(can_see_stage([ [0, 0, 0], [1, 1, 1], [2, 2, 2] ]))\n",
    "print(can_see_stage([ [2, 0, 0], [1, 1, 1], [2, 2, 2] ]))\n",
    "print(can_see_stage([ [1, 0, 0], [1, 1, 1], [2, 2, 2] ]))"
   ]
  },
  {
   "cell_type": "markdown",
   "id": "1e855bb2",
   "metadata": {},
   "source": [
    "5. Create a Pizza class with the attributes order_number and ingredients (which is given as a list). Only the ingredients will be given as input.\n",
    "\n",
    "You should also make it so that its possible to choose a ready made pizza flavour rather than typing out the ingredients manually! As well as creating this Pizza class, hard-code the following pizza flavours.\n",
    "\n",
    "Name\t                    Ingredients\n",
    "hawaiian\t          ham, pineapple\n",
    "meat_festival\tbeef, meatball, bacon\n",
    "garden_feast\tspinach, olives, mushroom\n",
    "\n",
    "Examples\n",
    "\n",
    "p1 = Pizza([\"bacon\", \"parmesan\", \"ham\"])    # order 1\n",
    "p2 = Pizza.garden_feast()                  # order 2\n",
    "\n",
    "p1.ingredients ➞ [\"bacon\", \"parmesan\", \"ham\"]\n",
    "\n",
    "p2.ingredients ➞ [\"spinach\", \"olives\", \"mushroom\"]\n",
    "\n",
    "p1.order_number ➞ 1\n",
    "\n",
    "p2.order_number ➞ 2\n"
   ]
  },
  {
   "cell_type": "code",
   "execution_count": 25,
   "id": "d042ebf6",
   "metadata": {},
   "outputs": [
    {
     "name": "stdout",
     "output_type": "stream",
     "text": [
      "['bacon', 'parmesan', 'ham']\n",
      "['spinach', 'olives', 'mushroom']\n",
      "1\n",
      "2\n"
     ]
    }
   ],
   "source": [
    "import itertools\n",
    "\n",
    "class Pizza:\n",
    "    new_id = itertools.count(start=1)\n",
    "    ingredients = []\n",
    "    def __init__(self, ingredients):\n",
    "        self.order_number = next(Pizza.new_id)\n",
    "        self.ingredients = ingredients\n",
    "    \n",
    "    @classmethod\n",
    "    def hawaiian(cls):\n",
    "        return cls([\"ham\", \"pineapple\"])\n",
    "    \n",
    "    @classmethod\n",
    "    def meat_festival(cls):\n",
    "        return cls([\"beef\", \"meatball\", \"bacon\"])\n",
    "    \n",
    "    @classmethod\n",
    "    def garden_feast(cls):\n",
    "        return cls([\"spinach\", \"olives\", \"mushroom\"])\n",
    "    \n",
    "p1 = Pizza([\"bacon\", \"parmesan\", \"ham\"])\n",
    "p2 = Pizza.garden_feast()\n",
    "print(p1.ingredients)\n",
    "print(p2.ingredients)\n",
    "print(p1.order_number)\n",
    "print(p2.order_number)"
   ]
  }
 ],
 "metadata": {
  "kernelspec": {
   "display_name": "Python 3",
   "language": "python",
   "name": "python3"
  },
  "language_info": {
   "codemirror_mode": {
    "name": "ipython",
    "version": 3
   },
   "file_extension": ".py",
   "mimetype": "text/x-python",
   "name": "python",
   "nbconvert_exporter": "python",
   "pygments_lexer": "ipython3",
   "version": "3.8.8"
  }
 },
 "nbformat": 4,
 "nbformat_minor": 5
}
