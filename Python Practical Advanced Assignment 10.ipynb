{
 "cells": [
  {
   "cell_type": "markdown",
   "id": "08087010",
   "metadata": {},
   "source": [
    "# Python Practical Advanced Assignment 10"
   ]
  },
  {
   "cell_type": "markdown",
   "id": "4f088428",
   "metadata": {},
   "source": [
    "1. Create a function that takes the width, height and character and returns a picture frame as a 2D list."
   ]
  },
  {
   "cell_type": "code",
   "execution_count": 47,
   "id": "5529031a",
   "metadata": {},
   "outputs": [
    {
     "name": "stdout",
     "output_type": "stream",
     "text": [
      "['####']\n",
      "['#  #']\n",
      "['#  #']\n",
      "['#  #']\n",
      "['####']\n",
      "\n",
      "['**********']\n",
      "['*        *']\n",
      "['**********']\n",
      "\n",
      "invalid\n"
     ]
    }
   ],
   "source": [
    "def get_frame(w,h,c):\n",
    "    if w<3:\n",
    "        return \"invalid\"\n",
    "    arr = [[str(c)*w] for j in range(h)]\n",
    "    print(arr[0])\n",
    "    for i in range(1,len(arr)-1):\n",
    "        s= \"\"\n",
    "        s= list(arr[i][0][2:w])\n",
    "        s1 = \"['\" + s[0] + \" \"*(w-2) + s[1] + \"']\"\n",
    "        print(s1)\n",
    "    print(arr[len(arr)-1])\n",
    "    return ''\n",
    "    \n",
    "print(get_frame(4, 5, \"#\"))\n",
    "print(get_frame(10, 3, \"*\") )\n",
    "print(get_frame(2, 5, \"0\") )"
   ]
  },
  {
   "cell_type": "markdown",
   "id": "62923ab4",
   "metadata": {},
   "source": [
    "2. Write three functions:\n",
    "\n",
    "  1. boolean_and\n",
    "  2. boolean_or\n",
    "  3. boolean_xor\n",
    "These functions should evaluate a list of True and False values, starting from the leftmost element and evaluating pairwise.\n",
    "\n",
    "Examples\n",
    "\n",
    "boolean_and([True, True, False, True]) ➞ False\n",
    "\n",
    "[True, True, False, True] => [True, False, True] => [False, True] => False\n",
    "\n",
    "boolean_or([True, True, False, False]) ➞ True\n",
    "\n",
    "[True, True, False, True] => [True, False, False] => [True, False] => True\n",
    "\n",
    "boolean_xor([True, True, False, False]) ➞ False\n",
    "\n",
    "[True, True, False, False] => [False, False, False] => [False, False] => False\n"
   ]
  },
  {
   "cell_type": "code",
   "execution_count": 61,
   "id": "ace8b445",
   "metadata": {},
   "outputs": [
    {
     "name": "stdout",
     "output_type": "stream",
     "text": [
      "False\n",
      "True\n",
      "False\n"
     ]
    }
   ],
   "source": [
    "def boolean_and(bools):\n",
    "    b = bools[0]\n",
    "    for i in range(1,len(bools)):\n",
    "        b = b and bools[i]\n",
    "    return b\n",
    "        \n",
    "def boolean_or(bools):\n",
    "    b = bools[0]\n",
    "    for i in range(1,len(bools)):\n",
    "        b = b or bools[i]\n",
    "    return b\n",
    "\n",
    "def boolean_xor(bools):\n",
    "    b = bools[0]\n",
    "    for i in range(1,len(bools)):\n",
    "        b = b ^ bools[i]\n",
    "    return b\n",
    "\n",
    "print(boolean_and([True, True, False, True]))\n",
    "print(boolean_or([True, True, False, False]))\n",
    "print(boolean_xor([True, True, False, False]))"
   ]
  },
  {
   "cell_type": "markdown",
   "id": "a248a3b9",
   "metadata": {},
   "source": [
    "3. Create a function that creates a box based on dimension n."
   ]
  },
  {
   "cell_type": "code",
   "execution_count": 76,
   "id": "0afa4dc5",
   "metadata": {},
   "outputs": [
    {
     "name": "stdout",
     "output_type": "stream",
     "text": [
      "#####\n",
      "#####\n",
      "#####\n",
      "#####\n",
      "#####\n",
      "None\n"
     ]
    }
   ],
   "source": [
    "def make_box(dim):\n",
    "    arr = [['#'*dim] for j in range(dim)]\n",
    "    for i in arr:\n",
    "        print(i[0])\n",
    "    \n",
    "print(make_box(5) )"
   ]
  },
  {
   "cell_type": "markdown",
   "id": "318b767a",
   "metadata": {},
   "source": [
    "4. Given a common phrase, return False if any individual word in the phrase contains duplicate letters. Return True otherwise.\n",
    "\n",
    "Examples\n",
    "\n",
    "no_duplicate_letters(\"Fortune favours the bold.\") ➞ True\n",
    "\n",
    "no_duplicate_letters(\"You can lead a horse to water, but you can't make him drink.\") ➞ True\n",
    "\n",
    "no_duplicate_letters(\"Look before you leap.\") ➞ False\n",
    "Duplicate letters in \"Look\" and \"before\".\n",
    "\n",
    "no_duplicate_letters(\"An apple a day keeps the doctor away.\") ➞ False\n",
    "Duplicate letters in \"apple\", \"keeps\", \"doctor\", and \"away\".\n"
   ]
  },
  {
   "cell_type": "code",
   "execution_count": 74,
   "id": "500206dd",
   "metadata": {},
   "outputs": [
    {
     "name": "stdout",
     "output_type": "stream",
     "text": [
      "True\n",
      "True\n",
      "False\n",
      "False\n"
     ]
    }
   ],
   "source": [
    "def no_duplicate_letters(string):\n",
    "    a = string.split()\n",
    "    un = set()\n",
    "    for i in a:\n",
    "        unique = set(i)\n",
    "        if len(unique) != len(i):\n",
    "            return False\n",
    "    return True\n",
    "\n",
    "print(no_duplicate_letters(\"Fortune favours the bold.\"))\n",
    "print(no_duplicate_letters(\"You can lead a horse to water, but you can't make him drink.\"))\n",
    "print(no_duplicate_letters(\"Look before you leap.\"))\n",
    "print(no_duplicate_letters(\"An apple a day keeps the doctor away.\"))"
   ]
  },
  {
   "cell_type": "markdown",
   "id": "823e05ed",
   "metadata": {},
   "source": [
    "5. Write a regular expression that will match the states that voted yes to President Trump's impeachment. You must use RegEx positive lookahead.\n",
    "\n",
    "Example\n",
    "\n",
    "txt = \"Texas = no, California = yes, Florida = yes, Michigan = no\"\n",
    "pattern = \"yourregularexpressionhere\"\n",
    "\n",
    "re.findall(pattern, txt) ➞ [\"California\", \"Florida\"]\n"
   ]
  },
  {
   "cell_type": "code",
   "execution_count": 38,
   "id": "7d4d8659",
   "metadata": {},
   "outputs": [
    {
     "data": {
      "text/plain": [
       "['California', 'Florida', 'New York']"
      ]
     },
     "execution_count": 38,
     "metadata": {},
     "output_type": "execute_result"
    }
   ],
   "source": [
    "import re\n",
    "\n",
    "txt = \"Texas = no, California = yes, Florida = yes, Michigan = no, New York = yes\"\n",
    "pattern = \"([a-zA-Z]+|[a-zA-Z]+ [a-zA-Z]+)(?= = yes)\"\n",
    "re.findall(pattern,txt)"
   ]
  }
 ],
 "metadata": {
  "kernelspec": {
   "display_name": "Python 3",
   "language": "python",
   "name": "python3"
  },
  "language_info": {
   "codemirror_mode": {
    "name": "ipython",
    "version": 3
   },
   "file_extension": ".py",
   "mimetype": "text/x-python",
   "name": "python",
   "nbconvert_exporter": "python",
   "pygments_lexer": "ipython3",
   "version": "3.8.8"
  }
 },
 "nbformat": 4,
 "nbformat_minor": 5
}
